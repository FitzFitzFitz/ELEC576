{
 "cells": [
  {
   "cell_type": "code",
   "execution_count": 3,
   "id": "10d2093f1526d1fd",
   "metadata": {
    "ExecuteTime": {
     "end_time": "2023-09-12T23:09:35.419037Z",
     "start_time": "2023-09-12T23:09:34.018173Z"
    }
   },
   "outputs": [
    {
     "name": "stdout",
     "output_type": "stream",
     "text": [
      "\r\n",
      "     active environment : base\r\n",
      "    active env location : /Users/chagall/anaconda3\r\n",
      "            shell level : 1\r\n",
      "       user config file : /Users/chagall/.condarc\r\n",
      " populated config files : /Users/chagall/.condarc\r\n",
      "          conda version : 23.7.3\r\n",
      "    conda-build version : 3.26.0\r\n",
      "         python version : 3.11.4.final.0\r\n",
      "       virtual packages : __archspec=1=arm64\r\n",
      "                          __osx=13.5.2=0\r\n",
      "                          __unix=0=0\r\n",
      "       base environment : /Users/chagall/anaconda3  (writable)\r\n",
      "      conda av data dir : /Users/chagall/anaconda3/etc/conda\r\n",
      "  conda av metadata url : None\r\n",
      "           channel URLs : https://repo.anaconda.com/pkgs/main/osx-arm64\r\n",
      "                          https://repo.anaconda.com/pkgs/main/noarch\r\n",
      "                          https://repo.anaconda.com/pkgs/r/osx-arm64\r\n",
      "                          https://repo.anaconda.com/pkgs/r/noarch\r\n",
      "          package cache : /Users/chagall/anaconda3/pkgs\r\n",
      "                          /Users/chagall/.conda/pkgs\r\n",
      "       envs directories : /Users/chagall/anaconda3/envs\r\n",
      "                          /Users/chagall/.conda/envs\r\n",
      "               platform : osx-arm64\r\n",
      "             user-agent : conda/23.7.3 requests/2.31.0 CPython/3.11.4 Darwin/22.6.0 OSX/13.5.2 aau/0.3.0 c/QVr5NLwlTVyC4iPadkftyw s/0LkFlYj1SnWSUVUVs-puyA e/ALQyCJQQQ2m033AiLYCUHw\r\n",
      "                UID:GID : 501:20\r\n",
      "             netrc file : /Users/chagall/.netrc\r\n",
      "           offline mode : False\r\n",
      "\r\n",
      "\r\n",
      "\n",
      "Note: you may need to restart the kernel to use updated packages.\n"
     ]
    }
   ],
   "source": [
    "conda info"
   ]
  },
  {
   "cell_type": "code",
   "execution_count": 4,
   "id": "f31bd772dd487f87",
   "metadata": {
    "ExecuteTime": {
     "end_time": "2023-09-12T23:09:37.880081Z",
     "start_time": "2023-09-12T23:09:35.408714Z"
    }
   },
   "outputs": [],
   "source": [
    "import numpy as np\n",
    "from scipy import io, integrate, linalg, signal\n",
    "from scipy.sparse.linalg import cg, eigs\n",
    "from numpy.random import default_rng"
   ]
  },
  {
   "cell_type": "code",
   "execution_count": 5,
   "id": "71d33b8a53352650",
   "metadata": {
    "ExecuteTime": {
     "end_time": "2023-09-12T23:09:37.885318Z",
     "start_time": "2023-09-12T23:09:37.881011Z"
    }
   },
   "outputs": [],
   "source": [
    "a = np.array([[1., 2., 3.], [4., 5., 6.]])\n"
   ]
  },
  {
   "cell_type": "code",
   "execution_count": 6,
   "id": "85f9ec70fb2eea16",
   "metadata": {
    "ExecuteTime": {
     "end_time": "2023-09-12T23:09:37.896154Z",
     "start_time": "2023-09-12T23:09:37.885519Z"
    }
   },
   "outputs": [
    {
     "data": {
      "text/plain": [
       "2"
      ]
     },
     "execution_count": 6,
     "metadata": {},
     "output_type": "execute_result"
    }
   ],
   "source": [
    "np.ndim(a)  #number of dimensions"
   ]
  },
  {
   "cell_type": "code",
   "execution_count": 7,
   "id": "c01f8028ab0b403b",
   "metadata": {
    "ExecuteTime": {
     "end_time": "2023-09-12T23:09:37.896548Z",
     "start_time": "2023-09-12T23:09:37.890408Z"
    }
   },
   "outputs": [
    {
     "data": {
      "text/plain": [
       "6"
      ]
     },
     "execution_count": 7,
     "metadata": {},
     "output_type": "execute_result"
    }
   ],
   "source": [
    "np.size(a)  #number of elements"
   ]
  },
  {
   "cell_type": "code",
   "execution_count": 8,
   "id": "fff4980988f07d08",
   "metadata": {
    "ExecuteTime": {
     "end_time": "2023-09-12T23:09:37.897138Z",
     "start_time": "2023-09-12T23:09:37.894126Z"
    }
   },
   "outputs": [
    {
     "data": {
      "text/plain": [
       "(2, 3)"
      ]
     },
     "execution_count": 8,
     "metadata": {},
     "output_type": "execute_result"
    }
   ],
   "source": [
    "np.shape(a)    #tuple of array dimensions"
   ]
  },
  {
   "cell_type": "code",
   "execution_count": 9,
   "id": "ce302765a8cb2f98",
   "metadata": {
    "ExecuteTime": {
     "end_time": "2023-09-12T23:09:37.903455Z",
     "start_time": "2023-09-12T23:09:37.897680Z"
    }
   },
   "outputs": [
    {
     "data": {
      "text/plain": [
       "3"
      ]
     },
     "execution_count": 9,
     "metadata": {},
     "output_type": "execute_result"
    }
   ],
   "source": [
    "a.shape[1]  "
   ]
  },
  {
   "cell_type": "code",
   "execution_count": 10,
   "id": "9921a8bbe1f10d95",
   "metadata": {
    "ExecuteTime": {
     "end_time": "2023-09-12T23:09:37.949406Z",
     "start_time": "2023-09-12T23:09:37.901127Z"
    }
   },
   "outputs": [
    {
     "data": {
      "text/plain": [
       "2"
      ]
     },
     "execution_count": 10,
     "metadata": {},
     "output_type": "execute_result"
    }
   ],
   "source": [
    "a.shape[0]  #number of rows"
   ]
  },
  {
   "cell_type": "code",
   "execution_count": 11,
   "id": "a98d8d2b136c08a",
   "metadata": {
    "ExecuteTime": {
     "end_time": "2023-09-12T23:09:37.950330Z",
     "start_time": "2023-09-12T23:09:37.906513Z"
    }
   },
   "outputs": [
    {
     "ename": "IndexError",
     "evalue": "tuple index out of range",
     "output_type": "error",
     "traceback": [
      "\u001b[0;31m---------------------------------------------------------------------------\u001b[0m",
      "\u001b[0;31mIndexError\u001b[0m                                Traceback (most recent call last)",
      "Cell \u001b[0;32mIn[11], line 1\u001b[0m\n\u001b[0;32m----> 1\u001b[0m a\u001b[38;5;241m.\u001b[39mshape[\u001b[38;5;241m2\u001b[39m]\n",
      "\u001b[0;31mIndexError\u001b[0m: tuple index out of range"
     ]
    }
   ],
   "source": [
    "a.shape[2]"
   ]
  },
  {
   "cell_type": "code",
   "execution_count": 12,
   "id": "c7d4571f79c8e9e0",
   "metadata": {
    "ExecuteTime": {
     "end_time": "2023-09-12T23:10:15.295709Z",
     "start_time": "2023-09-12T23:10:15.290464Z"
    }
   },
   "outputs": [],
   "source": [
    "b=c=d=a"
   ]
  },
  {
   "cell_type": "code",
   "execution_count": 13,
   "id": "11ea7f76413d1997",
   "metadata": {
    "ExecuteTime": {
     "end_time": "2023-09-12T23:10:17.050307Z",
     "start_time": "2023-09-12T23:10:17.042373Z"
    }
   },
   "outputs": [
    {
     "data": {
      "text/plain": [
       "array([[1., 2., 3., 1., 2., 3.],\n",
       "       [4., 5., 6., 4., 5., 6.],\n",
       "       [1., 2., 3., 1., 2., 3.],\n",
       "       [4., 5., 6., 4., 5., 6.]])"
      ]
     },
     "execution_count": 13,
     "metadata": {},
     "output_type": "execute_result"
    }
   ],
   "source": [
    "np.block([[a, b], [c, d]])  #block matrix"
   ]
  },
  {
   "cell_type": "code",
   "execution_count": 14,
   "id": "b3623ce2c978dfbd",
   "metadata": {
    "ExecuteTime": {
     "end_time": "2023-09-12T23:10:18.815417Z",
     "start_time": "2023-09-12T23:10:18.812717Z"
    }
   },
   "outputs": [
    {
     "data": {
      "text/plain": [
       "array([4., 5., 6.])"
      ]
     },
     "execution_count": 14,
     "metadata": {},
     "output_type": "execute_result"
    }
   ],
   "source": [
    "a[-1]#access last row/last element"
   ]
  },
  {
   "cell_type": "code",
   "execution_count": 15,
   "id": "40f085cf3590b052",
   "metadata": {
    "ExecuteTime": {
     "end_time": "2023-09-12T23:10:19.978659Z",
     "start_time": "2023-09-12T23:10:19.972813Z"
    }
   },
   "outputs": [
    {
     "data": {
      "text/plain": [
       "array([[1., 2., 3.],\n",
       "       [4., 5., 6.],\n",
       "       [1., 2., 3.],\n",
       "       [4., 5., 6.]])"
      ]
     },
     "execution_count": 15,
     "metadata": {},
     "output_type": "execute_result"
    }
   ],
   "source": [
    "# block two a together in a row\n",
    "a = np.array([[1., 2., 3.], [4., 5., 6.]])\n",
    "a=np.block([[a], [a]])\n",
    "a"
   ]
  },
  {
   "cell_type": "code",
   "execution_count": 16,
   "id": "f6397c7c611044e0",
   "metadata": {
    "ExecuteTime": {
     "end_time": "2023-09-12T23:10:20.425192Z",
     "start_time": "2023-09-12T23:10:20.419722Z"
    }
   },
   "outputs": [
    {
     "data": {
      "text/plain": [
       "array([[1., 2., 3., 1., 2., 3.],\n",
       "       [4., 5., 6., 4., 5., 6.]])"
      ]
     },
     "execution_count": 16,
     "metadata": {},
     "output_type": "execute_result"
    }
   ],
   "source": [
    "# block two a together in a column\n",
    "a = np.array([[1., 2., 3.], [4., 5., 6.]])\n",
    "a=np.block([a,a])\n",
    "a"
   ]
  },
  {
   "cell_type": "code",
   "execution_count": 17,
   "id": "a1bda9d4f5983c01",
   "metadata": {
    "ExecuteTime": {
     "end_time": "2023-09-12T23:10:20.757750Z",
     "start_time": "2023-09-12T23:10:20.749712Z"
    }
   },
   "outputs": [
    {
     "data": {
      "text/plain": [
       "5.0"
      ]
     },
     "execution_count": 17,
     "metadata": {},
     "output_type": "execute_result"
    }
   ],
   "source": [
    "a[1, 4]#access 2nd row, 5th element"
   ]
  },
  {
   "cell_type": "code",
   "execution_count": 18,
   "id": "293c02fb544ab4a8",
   "metadata": {
    "ExecuteTime": {
     "end_time": "2023-09-12T23:10:21.059373Z",
     "start_time": "2023-09-12T23:10:21.056301Z"
    }
   },
   "outputs": [
    {
     "data": {
      "text/plain": [
       "array([4., 5., 6., 4., 5., 6.])"
      ]
     },
     "execution_count": 18,
     "metadata": {},
     "output_type": "execute_result"
    }
   ],
   "source": [
    "a[1, :]#access 2nd row"
   ]
  },
  {
   "cell_type": "code",
   "execution_count": 19,
   "id": "d3d6d734bfa7e7dc",
   "metadata": {
    "ExecuteTime": {
     "end_time": "2023-09-12T23:10:21.251558Z",
     "start_time": "2023-09-12T23:10:21.247109Z"
    }
   },
   "outputs": [
    {
     "data": {
      "text/plain": [
       "array([4., 5., 6., 4., 5., 6.])"
      ]
     },
     "execution_count": 19,
     "metadata": {},
     "output_type": "execute_result"
    }
   ],
   "source": [
    "a[1]#access 2nd row"
   ]
  },
  {
   "cell_type": "code",
   "execution_count": 20,
   "id": "b0a84401af4dae24",
   "metadata": {
    "ExecuteTime": {
     "end_time": "2023-09-12T23:10:21.492802Z",
     "start_time": "2023-09-12T23:10:21.488987Z"
    }
   },
   "outputs": [
    {
     "data": {
      "text/plain": [
       "array([[1., 2., 3., 1.],\n",
       "       [4., 5., 6., 4.]])"
      ]
     },
     "execution_count": 20,
     "metadata": {},
     "output_type": "execute_result"
    }
   ],
   "source": [
    "a[:,:4]   #access first 4 columns"
   ]
  },
  {
   "cell_type": "code",
   "execution_count": 21,
   "id": "b523c4cf532dc077",
   "metadata": {
    "ExecuteTime": {
     "end_time": "2023-09-12T23:10:22.171901Z",
     "start_time": "2023-09-12T23:10:22.167485Z"
    }
   },
   "outputs": [
    {
     "data": {
      "text/plain": [
       "array([[4., 5., 6., 4., 5., 6.]])"
      ]
     },
     "execution_count": 21,
     "metadata": {},
     "output_type": "execute_result"
    }
   ],
   "source": [
    "a[-1:]    #access last row"
   ]
  },
  {
   "cell_type": "code",
   "execution_count": 22,
   "id": "a068fcc9eba11382",
   "metadata": {
    "ExecuteTime": {
     "end_time": "2023-09-12T23:10:22.634887Z",
     "start_time": "2023-09-12T23:10:22.628876Z"
    }
   },
   "outputs": [
    {
     "data": {
      "text/plain": [
       "array([[1., 2., 3., 1., 2., 3.],\n",
       "       [4., 5., 6., 4., 5., 6.],\n",
       "       [1., 2., 3., 1., 2., 3.],\n",
       "       [4., 5., 6., 4., 5., 6.],\n",
       "       [1., 2., 3., 1., 2., 3.],\n",
       "       [4., 5., 6., 4., 5., 6.],\n",
       "       [1., 2., 3., 1., 2., 3.],\n",
       "       [4., 5., 6., 4., 5., 6.]])"
      ]
     },
     "execution_count": 22,
     "metadata": {},
     "output_type": "execute_result"
    }
   ],
   "source": [
    "a=np.block([[a], [a], [a],[a]])\n",
    "a"
   ]
  },
  {
   "cell_type": "code",
   "execution_count": 23,
   "id": "16e09507181237f3",
   "metadata": {
    "ExecuteTime": {
     "end_time": "2023-09-12T23:10:23.039786Z",
     "start_time": "2023-09-12T23:10:23.034835Z"
    }
   },
   "outputs": [
    {
     "data": {
      "text/plain": [
       "array([[1., 2., 3.],\n",
       "       [4., 5., 6.],\n",
       "       [1., 2., 3.],\n",
       "       [4., 5., 6.]])"
      ]
     },
     "execution_count": 23,
     "metadata": {},
     "output_type": "execute_result"
    }
   ],
   "source": [
    "a[4:9,0:3]#access 1st to 3rd row, 5th to 9th element"
   ]
  },
  {
   "cell_type": "code",
   "execution_count": 24,
   "id": "94c1a71ba445a33d",
   "metadata": {
    "ExecuteTime": {
     "end_time": "2023-09-12T23:10:23.555712Z",
     "start_time": "2023-09-12T23:10:23.551246Z"
    }
   },
   "outputs": [
    {
     "data": {
      "text/plain": [
       "array([[4., 6.],\n",
       "       [4., 6.],\n",
       "       [1., 3.]])"
      ]
     },
     "execution_count": 24,
     "metadata": {},
     "output_type": "execute_result"
    }
   ],
   "source": [
    "a[np.ix_([1, 3, 4], [0, 2])]    \n",
    "#access 2nd, 4th, 5th row, 1st, 3rd column\n",
    "\n"
   ]
  },
  {
   "cell_type": "code",
   "execution_count": 25,
   "id": "3dedb0340fd603ec",
   "metadata": {
    "ExecuteTime": {
     "end_time": "2023-09-12T23:10:23.874598Z",
     "start_time": "2023-09-12T23:10:23.870579Z"
    }
   },
   "outputs": [
    {
     "data": {
      "text/plain": [
       "array([[1., 2., 3., 1., 2., 3.],\n",
       "       [1., 2., 3., 1., 2., 3.],\n",
       "       [1., 2., 3., 1., 2., 3.]])"
      ]
     },
     "execution_count": 25,
     "metadata": {},
     "output_type": "execute_result"
    }
   ],
   "source": [
    "a[2:9:2,:]  \n",
    "#access 3rd to 9th row, every other row\n"
   ]
  },
  {
   "cell_type": "code",
   "execution_count": 26,
   "id": "e8821c84cef0952c",
   "metadata": {
    "ExecuteTime": {
     "end_time": "2023-09-12T23:10:24.226930Z",
     "start_time": "2023-09-12T23:10:24.213590Z"
    }
   },
   "outputs": [
    {
     "data": {
      "text/plain": [
       "array([[1., 2., 3., 1., 2., 3.],\n",
       "       [1., 2., 3., 1., 2., 3.],\n",
       "       [1., 2., 3., 1., 2., 3.],\n",
       "       [1., 2., 3., 1., 2., 3.]])"
      ]
     },
     "execution_count": 26,
     "metadata": {},
     "output_type": "execute_result"
    }
   ],
   "source": [
    "a[::2, :]\n",
    "#access every other row"
   ]
  },
  {
   "cell_type": "code",
   "execution_count": 27,
   "id": "a99b4600f0689d9b",
   "metadata": {
    "ExecuteTime": {
     "end_time": "2023-09-12T23:10:41.098299Z",
     "start_time": "2023-09-12T23:10:41.095567Z"
    }
   },
   "outputs": [
    {
     "data": {
      "text/plain": [
       "array([[4., 5., 6., 4., 5., 6.],\n",
       "       [1., 2., 3., 1., 2., 3.],\n",
       "       [4., 5., 6., 4., 5., 6.],\n",
       "       [1., 2., 3., 1., 2., 3.],\n",
       "       [4., 5., 6., 4., 5., 6.],\n",
       "       [1., 2., 3., 1., 2., 3.],\n",
       "       [4., 5., 6., 4., 5., 6.],\n",
       "       [1., 2., 3., 1., 2., 3.]])"
      ]
     },
     "execution_count": 27,
     "metadata": {},
     "output_type": "execute_result"
    }
   ],
   "source": [
    "a[::-1,:]\n",
    "#access every  row in reverse order"
   ]
  },
  {
   "cell_type": "code",
   "execution_count": 31,
   "id": "621ada0c355871b1",
   "metadata": {
    "ExecuteTime": {
     "end_time": "2023-09-13T01:37:25.059315Z",
     "start_time": "2023-09-13T01:37:25.056254Z"
    }
   },
   "outputs": [
    {
     "data": {
      "text/plain": [
       "array([[1., 2., 3., 1., 2., 3.],\n",
       "       [4., 5., 6., 4., 5., 6.],\n",
       "       [1., 2., 3., 1., 2., 3.],\n",
       "       [4., 5., 6., 4., 5., 6.],\n",
       "       [1., 2., 3., 1., 2., 3.],\n",
       "       [4., 5., 6., 4., 5., 6.],\n",
       "       [1., 2., 3., 1., 2., 3.],\n",
       "       [4., 5., 6., 4., 5., 6.],\n",
       "       [1., 2., 3., 1., 2., 3.]])"
      ]
     },
     "execution_count": 31,
     "metadata": {},
     "output_type": "execute_result"
    }
   ],
   "source": [
    "a[np.r_[:len(a),0]]\n",
    "#a with copy of the first row appended to the end\n",
    "#复制的第一行附加到末尾，不会对a做出改变"
   ]
  },
  {
   "cell_type": "code",
   "execution_count": 32,
   "id": "34dd4781c9aec71",
   "metadata": {
    "ExecuteTime": {
     "end_time": "2023-09-13T01:38:46.289072Z",
     "start_time": "2023-09-13T01:38:46.263108Z"
    }
   },
   "outputs": [
    {
     "data": {
      "text/plain": [
       "array([[1., 4., 1., 4., 1., 4., 1., 4.],\n",
       "       [2., 5., 2., 5., 2., 5., 2., 5.],\n",
       "       [3., 6., 3., 6., 3., 6., 3., 6.],\n",
       "       [1., 4., 1., 4., 1., 4., 1., 4.],\n",
       "       [2., 5., 2., 5., 2., 5., 2., 5.],\n",
       "       [3., 6., 3., 6., 3., 6., 3., 6.]])"
      ]
     },
     "execution_count": 32,
     "metadata": {},
     "output_type": "execute_result"
    }
   ],
   "source": [
    "a.T"
   ]
  },
  {
   "cell_type": "code",
   "execution_count": 33,
   "id": "3aa23e2d2ce95dc6",
   "metadata": {
    "ExecuteTime": {
     "end_time": "2023-09-13T01:39:29.101854Z",
     "start_time": "2023-09-13T01:39:29.086911Z"
    }
   },
   "outputs": [
    {
     "data": {
      "text/plain": [
       "array([[1., 4., 1., 4., 1., 4., 1., 4.],\n",
       "       [2., 5., 2., 5., 2., 5., 2., 5.],\n",
       "       [3., 6., 3., 6., 3., 6., 3., 6.],\n",
       "       [1., 4., 1., 4., 1., 4., 1., 4.],\n",
       "       [2., 5., 2., 5., 2., 5., 2., 5.],\n",
       "       [3., 6., 3., 6., 3., 6., 3., 6.]])"
      ]
     },
     "execution_count": 33,
     "metadata": {},
     "output_type": "execute_result"
    }
   ],
   "source": [
    "a.conj().T\n",
    "#conjugate transpose 共轭"
   ]
  },
  {
   "cell_type": "code",
   "execution_count": 37,
   "id": "8e37835e35798142",
   "metadata": {
    "ExecuteTime": {
     "end_time": "2023-09-13T01:41:42.185819Z",
     "start_time": "2023-09-13T01:41:42.182164Z"
    }
   },
   "outputs": [],
   "source": [
    "b=a.T"
   ]
  },
  {
   "cell_type": "code",
   "execution_count": 38,
   "id": "7787ac142614bbf7",
   "metadata": {
    "ExecuteTime": {
     "end_time": "2023-09-13T01:41:45.828318Z",
     "start_time": "2023-09-13T01:41:45.824997Z"
    }
   },
   "outputs": [
    {
     "data": {
      "text/plain": [
       "array([[ 28.,  64.,  28.,  64.,  28.,  64.,  28.,  64.],\n",
       "       [ 64., 154.,  64., 154.,  64., 154.,  64., 154.],\n",
       "       [ 28.,  64.,  28.,  64.,  28.,  64.,  28.,  64.],\n",
       "       [ 64., 154.,  64., 154.,  64., 154.,  64., 154.],\n",
       "       [ 28.,  64.,  28.,  64.,  28.,  64.,  28.,  64.],\n",
       "       [ 64., 154.,  64., 154.,  64., 154.,  64., 154.],\n",
       "       [ 28.,  64.,  28.,  64.,  28.,  64.,  28.,  64.],\n",
       "       [ 64., 154.,  64., 154.,  64., 154.,  64., 154.]])"
      ]
     },
     "execution_count": 38,
     "metadata": {},
     "output_type": "execute_result"
    }
   ],
   "source": [
    "a@b"
   ]
  },
  {
   "cell_type": "code",
   "execution_count": 39,
   "id": "c44de5f020e934ce",
   "metadata": {
    "ExecuteTime": {
     "end_time": "2023-09-13T01:42:04.381858Z",
     "start_time": "2023-09-13T01:42:04.373139Z"
    }
   },
   "outputs": [
    {
     "data": {
      "text/plain": [
       "array([[ 2.,  4.,  6.,  2.,  4.,  6.],\n",
       "       [ 8., 10., 12.,  8., 10., 12.],\n",
       "       [ 2.,  4.,  6.,  2.,  4.,  6.],\n",
       "       [ 8., 10., 12.,  8., 10., 12.],\n",
       "       [ 2.,  4.,  6.,  2.,  4.,  6.],\n",
       "       [ 8., 10., 12.,  8., 10., 12.],\n",
       "       [ 2.,  4.,  6.,  2.,  4.,  6.],\n",
       "       [ 8., 10., 12.,  8., 10., 12.]])"
      ]
     },
     "execution_count": 39,
     "metadata": {},
     "output_type": "execute_result"
    }
   ],
   "source": [
    "a*2"
   ]
  },
  {
   "cell_type": "code",
   "execution_count": 40,
   "id": "7c649d0e2dbd01b2",
   "metadata": {
    "ExecuteTime": {
     "end_time": "2023-09-13T01:42:12.088027Z",
     "start_time": "2023-09-13T01:42:12.080314Z"
    }
   },
   "outputs": [
    {
     "data": {
      "text/plain": [
       "array([[ 1.,  4.,  9.,  1.,  4.,  9.],\n",
       "       [16., 25., 36., 16., 25., 36.],\n",
       "       [ 1.,  4.,  9.,  1.,  4.,  9.],\n",
       "       [16., 25., 36., 16., 25., 36.],\n",
       "       [ 1.,  4.,  9.,  1.,  4.,  9.],\n",
       "       [16., 25., 36., 16., 25., 36.],\n",
       "       [ 1.,  4.,  9.,  1.,  4.,  9.],\n",
       "       [16., 25., 36., 16., 25., 36.]])"
      ]
     },
     "execution_count": 40,
     "metadata": {},
     "output_type": "execute_result"
    }
   ],
   "source": [
    "a**2"
   ]
  },
  {
   "cell_type": "code",
   "execution_count": 41,
   "id": "430f3c25f9510d37",
   "metadata": {
    "ExecuteTime": {
     "end_time": "2023-09-13T01:42:28.357835Z",
     "start_time": "2023-09-13T01:42:28.352548Z"
    }
   },
   "outputs": [
    {
     "data": {
      "text/plain": [
       "array([[0.5, 1. , 1.5, 0.5, 1. , 1.5],\n",
       "       [2. , 2.5, 3. , 2. , 2.5, 3. ],\n",
       "       [0.5, 1. , 1.5, 0.5, 1. , 1.5],\n",
       "       [2. , 2.5, 3. , 2. , 2.5, 3. ],\n",
       "       [0.5, 1. , 1.5, 0.5, 1. , 1.5],\n",
       "       [2. , 2.5, 3. , 2. , 2.5, 3. ],\n",
       "       [0.5, 1. , 1.5, 0.5, 1. , 1.5],\n",
       "       [2. , 2.5, 3. , 2. , 2.5, 3. ]])"
      ]
     },
     "execution_count": 41,
     "metadata": {},
     "output_type": "execute_result"
    }
   ],
   "source": [
    "a/2"
   ]
  },
  {
   "cell_type": "code",
   "execution_count": 44,
   "id": "7112700e1eb8862d",
   "metadata": {
    "ExecuteTime": {
     "end_time": "2023-09-13T01:43:01.947167Z",
     "start_time": "2023-09-13T01:43:01.945028Z"
    }
   },
   "outputs": [
    {
     "data": {
      "text/plain": [
       "array([[False, False,  True, False, False,  True],\n",
       "       [ True,  True,  True,  True,  True,  True],\n",
       "       [False, False,  True, False, False,  True],\n",
       "       [ True,  True,  True,  True,  True,  True],\n",
       "       [False, False,  True, False, False,  True],\n",
       "       [ True,  True,  True,  True,  True,  True],\n",
       "       [False, False,  True, False, False,  True],\n",
       "       [ True,  True,  True,  True,  True,  True]])"
      ]
     },
     "execution_count": 44,
     "metadata": {},
     "output_type": "execute_result"
    }
   ],
   "source": [
    "a>2"
   ]
  },
  {
   "cell_type": "code",
   "execution_count": 46,
   "id": "b43389f0fc7cbd84",
   "metadata": {
    "ExecuteTime": {
     "end_time": "2023-09-13T01:44:50.932653Z",
     "start_time": "2023-09-13T01:44:50.922954Z"
    }
   },
   "outputs": [
    {
     "data": {
      "text/plain": [
       "(array([0, 0, 1, 1, 1, 1, 1, 1, 2, 2, 3, 3, 3, 3, 3, 3, 4, 4, 5, 5, 5, 5,\n",
       "        5, 5, 6, 6, 7, 7, 7, 7, 7, 7]),\n",
       " array([2, 5, 0, 1, 2, 3, 4, 5, 2, 5, 0, 1, 2, 3, 4, 5, 2, 5, 0, 1, 2, 3,\n",
       "        4, 5, 2, 5, 0, 1, 2, 3, 4, 5]))"
      ]
     },
     "execution_count": 46,
     "metadata": {},
     "output_type": "execute_result"
    }
   ],
   "source": [
    "np.nonzero(a > 2)\n",
    "#find the indices where (a > 0.5)"
   ]
  },
  {
   "cell_type": "code",
   "execution_count": 47,
   "id": "cc292d84ca41df9f",
   "metadata": {
    "ExecuteTime": {
     "end_time": "2023-09-13T01:46:21.803691Z",
     "start_time": "2023-09-13T01:46:21.775374Z"
    }
   },
   "outputs": [
    {
     "data": {
      "text/plain": [
       "array([[1., 1., 1., 1., 2., 2., 2., 2., 3., 3., 3., 3., 3., 3., 3., 3.,\n",
       "        1., 1., 1., 1., 2., 2., 2., 2., 3., 3., 3., 3., 3., 3., 3., 3.],\n",
       "       [4., 4., 4., 4., 5., 5., 5., 5., 6., 6., 6., 6., 6., 6., 6., 6.,\n",
       "        4., 4., 4., 4., 5., 5., 5., 5., 6., 6., 6., 6., 6., 6., 6., 6.],\n",
       "       [1., 1., 1., 1., 2., 2., 2., 2., 3., 3., 3., 3., 3., 3., 3., 3.,\n",
       "        1., 1., 1., 1., 2., 2., 2., 2., 3., 3., 3., 3., 3., 3., 3., 3.],\n",
       "       [4., 4., 4., 4., 5., 5., 5., 5., 6., 6., 6., 6., 6., 6., 6., 6.,\n",
       "        4., 4., 4., 4., 5., 5., 5., 5., 6., 6., 6., 6., 6., 6., 6., 6.],\n",
       "       [1., 1., 1., 1., 2., 2., 2., 2., 3., 3., 3., 3., 3., 3., 3., 3.,\n",
       "        1., 1., 1., 1., 2., 2., 2., 2., 3., 3., 3., 3., 3., 3., 3., 3.],\n",
       "       [4., 4., 4., 4., 5., 5., 5., 5., 6., 6., 6., 6., 6., 6., 6., 6.,\n",
       "        4., 4., 4., 4., 5., 5., 5., 5., 6., 6., 6., 6., 6., 6., 6., 6.],\n",
       "       [1., 1., 1., 1., 2., 2., 2., 2., 3., 3., 3., 3., 3., 3., 3., 3.,\n",
       "        1., 1., 1., 1., 2., 2., 2., 2., 3., 3., 3., 3., 3., 3., 3., 3.],\n",
       "       [4., 4., 4., 4., 5., 5., 5., 5., 6., 6., 6., 6., 6., 6., 6., 6.,\n",
       "        4., 4., 4., 4., 5., 5., 5., 5., 6., 6., 6., 6., 6., 6., 6., 6.]])"
      ]
     },
     "execution_count": 47,
     "metadata": {},
     "output_type": "execute_result"
    }
   ],
   "source": [
    "#a(:,find(v > 0.5))\n",
    "#extract the columns of a where vector v > 0.5\n",
    "a[:,np.nonzero(b > 2)[0]]"
   ]
  },
  {
   "cell_type": "code",
   "execution_count": 50,
   "id": "796a9a844723651f",
   "metadata": {
    "ExecuteTime": {
     "end_time": "2023-09-13T05:08:33.105194Z",
     "start_time": "2023-09-13T05:08:33.099387Z"
    }
   },
   "outputs": [
    {
     "data": {
      "text/plain": [
       "array([[1., 2., 3., 1., 2., 3.],\n",
       "       [4., 5., 6., 4., 5., 6.],\n",
       "       [1., 2., 3., 1., 2., 3.],\n",
       "       [4., 5., 6., 4., 5., 6.],\n",
       "       [1., 2., 3., 1., 2., 3.],\n",
       "       [4., 5., 6., 4., 5., 6.],\n",
       "       [1., 2., 3., 1., 2., 3.],\n",
       "       [4., 5., 6., 4., 5., 6.]])"
      ]
     },
     "execution_count": 50,
     "metadata": {},
     "output_type": "execute_result"
    }
   ],
   "source": [
    "b=np.array([1., 2., 3., 4., 5., 6.])\n",
    "a[:, b.T > 0.5]\n",
    "#\textract the columns of a where column vector v > 0.5\n"
   ]
  },
  {
   "cell_type": "code",
   "execution_count": 52,
   "id": "3273d533140dafbe",
   "metadata": {
    "ExecuteTime": {
     "end_time": "2023-09-13T05:09:10.389771Z",
     "start_time": "2023-09-13T05:09:10.382554Z"
    }
   },
   "outputs": [
    {
     "data": {
      "text/plain": [
       "array([[1., 2., 3., 1., 2., 3.],\n",
       "       [4., 5., 6., 4., 5., 6.],\n",
       "       [1., 2., 3., 1., 2., 3.],\n",
       "       [4., 5., 6., 4., 5., 6.],\n",
       "       [1., 2., 3., 1., 2., 3.],\n",
       "       [4., 5., 6., 4., 5., 6.],\n",
       "       [1., 2., 3., 1., 2., 3.],\n",
       "       [4., 5., 6., 4., 5., 6.]])"
      ]
     },
     "execution_count": 52,
     "metadata": {},
     "output_type": "execute_result"
    }
   ],
   "source": [
    "a[a < 0.5]=0\n",
    "a\n",
    "#\ta with elements less than 0.5 zeroed out"
   ]
  },
  {
   "cell_type": "code",
   "execution_count": 53,
   "id": "3a17f0d0d4ae95c5",
   "metadata": {
    "ExecuteTime": {
     "end_time": "2023-09-13T05:09:29.225228Z",
     "start_time": "2023-09-13T05:09:29.206919Z"
    }
   },
   "outputs": [
    {
     "data": {
      "text/plain": [
       "array([[1., 2., 3., 1., 2., 3.],\n",
       "       [4., 5., 6., 4., 5., 6.],\n",
       "       [1., 2., 3., 1., 2., 3.],\n",
       "       [4., 5., 6., 4., 5., 6.],\n",
       "       [1., 2., 3., 1., 2., 3.],\n",
       "       [4., 5., 6., 4., 5., 6.],\n",
       "       [1., 2., 3., 1., 2., 3.],\n",
       "       [4., 5., 6., 4., 5., 6.]])"
      ]
     },
     "execution_count": 53,
     "metadata": {},
     "output_type": "execute_result"
    }
   ],
   "source": [
    "a * (a > 0.5)\n",
    "a\n",
    "#\ta with elements less than 0.5 zeroed out"
   ]
  },
  {
   "cell_type": "code",
   "execution_count": 55,
   "id": "1cf8201b4033318e",
   "metadata": {
    "ExecuteTime": {
     "end_time": "2023-09-13T05:09:51.887315Z",
     "start_time": "2023-09-13T05:09:51.873661Z"
    }
   },
   "outputs": [
    {
     "data": {
      "text/plain": [
       "array([3., 3., 3., 3., 3., 3.])"
      ]
     },
     "execution_count": 55,
     "metadata": {},
     "output_type": "execute_result"
    }
   ],
   "source": [
    "b[:] = 3\n",
    "b\n"
   ]
  },
  {
   "cell_type": "code",
   "execution_count": 57,
   "id": "fed60c83982c8225",
   "metadata": {
    "ExecuteTime": {
     "end_time": "2023-09-13T05:10:53.811554Z",
     "start_time": "2023-09-13T05:10:53.800894Z"
    }
   },
   "outputs": [
    {
     "data": {
      "text/plain": [
       "array([[1., 2., 3., 1., 2., 3.],\n",
       "       [4., 5., 6., 4., 5., 6.],\n",
       "       [1., 2., 3., 1., 2., 3.],\n",
       "       [4., 5., 6., 4., 5., 6.],\n",
       "       [1., 2., 3., 1., 2., 3.],\n",
       "       [4., 5., 6., 4., 5., 6.],\n",
       "       [1., 2., 3., 1., 2., 3.],\n",
       "       [4., 5., 6., 4., 5., 6.]])"
      ]
     },
     "execution_count": 57,
     "metadata": {},
     "output_type": "execute_result"
    }
   ],
   "source": [
    "b=a.copy()\n",
    "b"
   ]
  },
  {
   "cell_type": "code",
   "execution_count": 59,
   "id": "8896b6cf28ecd442",
   "metadata": {
    "ExecuteTime": {
     "end_time": "2023-09-13T05:11:24.846213Z",
     "start_time": "2023-09-13T05:11:24.837937Z"
    }
   },
   "outputs": [
    {
     "data": {
      "text/plain": [
       "array([4., 5., 6., 4., 5., 6.])"
      ]
     },
     "execution_count": 59,
     "metadata": {},
     "output_type": "execute_result"
    }
   ],
   "source": [
    "b=a[1,:].copy()\n",
    "b\n"
   ]
  },
  {
   "cell_type": "code",
   "execution_count": 61,
   "id": "ce547fbda7f96f02",
   "metadata": {
    "ExecuteTime": {
     "end_time": "2023-09-13T05:11:48.363345Z",
     "start_time": "2023-09-13T05:11:48.352752Z"
    }
   },
   "outputs": [
    {
     "data": {
      "text/plain": [
       "array([1., 2., 3., 1., 2., 3., 4., 5., 6., 4., 5., 6., 1., 2., 3., 1., 2.,\n",
       "       3., 4., 5., 6., 4., 5., 6., 1., 2., 3., 1., 2., 3., 4., 5., 6., 4.,\n",
       "       5., 6., 1., 2., 3., 1., 2., 3., 4., 5., 6., 4., 5., 6.])"
      ]
     },
     "execution_count": 61,
     "metadata": {},
     "output_type": "execute_result"
    }
   ],
   "source": [
    "b=a.flatten()\n",
    "b"
   ]
  },
  {
   "cell_type": "code",
   "execution_count": 62,
   "id": "c63d1afd46a85c45",
   "metadata": {
    "ExecuteTime": {
     "end_time": "2023-09-13T05:12:10.763071Z",
     "start_time": "2023-09-13T05:12:10.748205Z"
    }
   },
   "outputs": [
    {
     "data": {
      "text/plain": [
       "array([ 1.,  2.,  3.,  4.,  5.,  6.,  7.,  8.,  9., 10.])"
      ]
     },
     "execution_count": 62,
     "metadata": {},
     "output_type": "execute_result"
    }
   ],
   "source": [
    "\t\n",
    "np.arange(1., 11.)\n"
   ]
  },
  {
   "cell_type": "code",
   "execution_count": 63,
   "id": "ec10ad00ccca2e59",
   "metadata": {
    "ExecuteTime": {
     "end_time": "2023-09-13T05:12:38.144138Z",
     "start_time": "2023-09-13T05:12:38.124062Z"
    }
   },
   "outputs": [
    {
     "data": {
      "text/plain": [
       "array([0., 1., 2., 3., 4., 5., 6., 7., 8., 9.])"
      ]
     },
     "execution_count": 63,
     "metadata": {},
     "output_type": "execute_result"
    }
   ],
   "source": [
    "np.arange(10.)"
   ]
  },
  {
   "cell_type": "code",
   "execution_count": 64,
   "id": "c8fec5fa0f52cdd3",
   "metadata": {
    "ExecuteTime": {
     "end_time": "2023-09-13T05:12:48.285225Z",
     "start_time": "2023-09-13T05:12:48.264005Z"
    }
   },
   "outputs": [
    {
     "data": {
      "text/plain": [
       "array([[ 1.],\n",
       "       [ 2.],\n",
       "       [ 3.],\n",
       "       [ 4.],\n",
       "       [ 5.],\n",
       "       [ 6.],\n",
       "       [ 7.],\n",
       "       [ 8.],\n",
       "       [ 9.],\n",
       "       [10.]])"
      ]
     },
     "execution_count": 64,
     "metadata": {},
     "output_type": "execute_result"
    }
   ],
   "source": [
    "np.arange(1.,11.)[:, np.newaxis]\n",
    "\n",
    "\n"
   ]
  },
  {
   "cell_type": "code",
   "execution_count": 65,
   "id": "dda65d45bdccde84",
   "metadata": {
    "ExecuteTime": {
     "end_time": "2023-09-13T07:11:44.540112Z",
     "start_time": "2023-09-13T07:11:44.539848Z"
    }
   },
   "outputs": [
    {
     "data": {
      "text/plain": [
       "array([[0., 0., 0., 0.],\n",
       "       [0., 0., 0., 0.],\n",
       "       [0., 0., 0., 0.]])"
      ]
     },
     "execution_count": 65,
     "metadata": {},
     "output_type": "execute_result"
    }
   ],
   "source": [
    "np.zeros((3, 4))\n",
    "\n"
   ]
  },
  {
   "cell_type": "code",
   "execution_count": 66,
   "id": "4344b71c522bffe2",
   "metadata": {
    "ExecuteTime": {
     "end_time": "2023-09-13T07:11:50.316802Z",
     "start_time": "2023-09-13T07:11:50.293317Z"
    }
   },
   "outputs": [
    {
     "data": {
      "text/plain": [
       "array([[[0., 0., 0., 0., 0.],\n",
       "        [0., 0., 0., 0., 0.],\n",
       "        [0., 0., 0., 0., 0.],\n",
       "        [0., 0., 0., 0., 0.]],\n",
       "\n",
       "       [[0., 0., 0., 0., 0.],\n",
       "        [0., 0., 0., 0., 0.],\n",
       "        [0., 0., 0., 0., 0.],\n",
       "        [0., 0., 0., 0., 0.]],\n",
       "\n",
       "       [[0., 0., 0., 0., 0.],\n",
       "        [0., 0., 0., 0., 0.],\n",
       "        [0., 0., 0., 0., 0.],\n",
       "        [0., 0., 0., 0., 0.]]])"
      ]
     },
     "execution_count": 66,
     "metadata": {},
     "output_type": "execute_result"
    }
   ],
   "source": [
    "np.zeros((3, 4, 5))\n",
    "\n"
   ]
  },
  {
   "cell_type": "code",
   "execution_count": 67,
   "id": "a08b18f79dfadf5c",
   "metadata": {
    "ExecuteTime": {
     "end_time": "2023-09-13T07:11:56.621613Z",
     "start_time": "2023-09-13T07:11:56.609336Z"
    }
   },
   "outputs": [
    {
     "data": {
      "text/plain": [
       "array([[1., 1., 1., 1.],\n",
       "       [1., 1., 1., 1.],\n",
       "       [1., 1., 1., 1.]])"
      ]
     },
     "execution_count": 67,
     "metadata": {},
     "output_type": "execute_result"
    }
   ],
   "source": [
    "np.ones((3, 4))\n",
    "\n"
   ]
  },
  {
   "cell_type": "code",
   "execution_count": 68,
   "id": "4fcd49db680f4bfc",
   "metadata": {
    "ExecuteTime": {
     "end_time": "2023-09-13T07:12:05.592697Z",
     "start_time": "2023-09-13T07:12:05.570329Z"
    }
   },
   "outputs": [
    {
     "data": {
      "text/plain": [
       "array([[1., 0., 0.],\n",
       "       [0., 1., 0.],\n",
       "       [0., 0., 1.]])"
      ]
     },
     "execution_count": 68,
     "metadata": {},
     "output_type": "execute_result"
    }
   ],
   "source": [
    "np.eye(3)\n",
    "\n"
   ]
  },
  {
   "cell_type": "code",
   "execution_count": 69,
   "id": "c6521e572df4356c",
   "metadata": {
    "ExecuteTime": {
     "end_time": "2023-09-13T07:12:11.584142Z",
     "start_time": "2023-09-13T07:12:11.570170Z"
    }
   },
   "outputs": [
    {
     "data": {
      "text/plain": [
       "array([1., 5., 3., 4., 2., 6.])"
      ]
     },
     "execution_count": 69,
     "metadata": {},
     "output_type": "execute_result"
    }
   ],
   "source": [
    "np.diag(a)\n",
    "\n"
   ]
  },
  {
   "cell_type": "code",
   "execution_count": 73,
   "id": "92db0cd7d7be39a8",
   "metadata": {
    "ExecuteTime": {
     "end_time": "2023-09-13T07:14:43.904305Z",
     "start_time": "2023-09-13T07:14:43.898069Z"
    }
   },
   "outputs": [
    {
     "data": {
      "text/plain": [
       "array([1., 5., 3., 4., 2., 6.])"
      ]
     },
     "execution_count": 73,
     "metadata": {},
     "output_type": "execute_result"
    }
   ],
   "source": [
    "#returns a square diagonal matrix whose nonzero values are the elements of vector, v\n",
    "np.diag(a, 0)"
   ]
  },
  {
   "cell_type": "code",
   "execution_count": 77,
   "id": "dfcabcfd3541c08b",
   "metadata": {
    "ExecuteTime": {
     "end_time": "2023-09-13T07:16:35.250104Z",
     "start_time": "2023-09-13T07:16:35.245075Z"
    }
   },
   "outputs": [
    {
     "data": {
      "text/plain": [
       "array([[0.77395605, 0.43887844, 0.85859792, 0.69736803],\n",
       "       [0.09417735, 0.97562235, 0.7611397 , 0.78606431],\n",
       "       [0.12811363, 0.45038594, 0.37079802, 0.92676499]])"
      ]
     },
     "execution_count": 77,
     "metadata": {},
     "output_type": "execute_result"
    }
   ],
   "source": [
    "from numpy.random import default_rng#random number generator\n",
    "rng = default_rng(42)\n",
    "rng.random((3,4))"
   ]
  },
  {
   "cell_type": "code",
   "execution_count": 78,
   "id": "1a8e0d8d2ca3d6d6",
   "metadata": {
    "ExecuteTime": {
     "end_time": "2023-09-13T07:16:45.324013Z",
     "start_time": "2023-09-13T07:16:45.308111Z"
    }
   },
   "outputs": [
    {
     "data": {
      "text/plain": [
       "array([1.        , 1.66666667, 2.33333333, 3.        ])"
      ]
     },
     "execution_count": 78,
     "metadata": {},
     "output_type": "execute_result"
    }
   ],
   "source": [
    "np.linspace(1,3,4)\n"
   ]
  },
  {
   "cell_type": "code",
   "execution_count": 79,
   "id": "8e4f2549fac47a7a",
   "metadata": {
    "ExecuteTime": {
     "end_time": "2023-09-13T07:17:05.678477Z",
     "start_time": "2023-09-13T07:17:05.660409Z"
    }
   },
   "outputs": [
    {
     "data": {
      "text/plain": [
       "array([[[0., 0., 0., 0., 0., 0.],\n",
       "        [1., 1., 1., 1., 1., 1.],\n",
       "        [2., 2., 2., 2., 2., 2.],\n",
       "        [3., 3., 3., 3., 3., 3.],\n",
       "        [4., 4., 4., 4., 4., 4.],\n",
       "        [5., 5., 5., 5., 5., 5.],\n",
       "        [6., 6., 6., 6., 6., 6.],\n",
       "        [7., 7., 7., 7., 7., 7.],\n",
       "        [8., 8., 8., 8., 8., 8.]],\n",
       "\n",
       "       [[0., 1., 2., 3., 4., 5.],\n",
       "        [0., 1., 2., 3., 4., 5.],\n",
       "        [0., 1., 2., 3., 4., 5.],\n",
       "        [0., 1., 2., 3., 4., 5.],\n",
       "        [0., 1., 2., 3., 4., 5.],\n",
       "        [0., 1., 2., 3., 4., 5.],\n",
       "        [0., 1., 2., 3., 4., 5.],\n",
       "        [0., 1., 2., 3., 4., 5.],\n",
       "        [0., 1., 2., 3., 4., 5.]]])"
      ]
     },
     "execution_count": 79,
     "metadata": {},
     "output_type": "execute_result"
    }
   ],
   "source": [
    "np.mgrid[0:9.,0:6.]"
   ]
  },
  {
   "cell_type": "code",
   "execution_count": 85,
   "id": "f6ed45d02df3dc61",
   "metadata": {
    "ExecuteTime": {
     "end_time": "2023-09-13T07:20:41.766699Z",
     "start_time": "2023-09-13T07:20:41.761151Z"
    }
   },
   "outputs": [
    {
     "data": {
      "text/plain": [
       "(array([[0.],\n",
       "        [1.],\n",
       "        [2.],\n",
       "        [3.],\n",
       "        [4.],\n",
       "        [5.],\n",
       "        [6.],\n",
       "        [7.],\n",
       "        [8.]]),\n",
       " array([[0., 1., 2., 3., 4., 5.]]))"
      ]
     },
     "execution_count": 85,
     "metadata": {},
     "output_type": "execute_result"
    }
   ],
   "source": [
    "c=np.ix_(np.r_[0:9.],np.r_[0:6.])\n",
    "c"
   ]
  },
  {
   "cell_type": "code",
   "execution_count": 86,
   "id": "1af3a3a2fc444604",
   "metadata": {
    "ExecuteTime": {
     "end_time": "2023-09-13T07:20:46.639398Z",
     "start_time": "2023-09-13T07:20:46.624553Z"
    }
   },
   "outputs": [
    {
     "data": {
      "text/plain": [
       "[array([[1, 2, 4],\n",
       "        [1, 2, 4],\n",
       "        [1, 2, 4]]),\n",
       " array([[2, 2, 2],\n",
       "        [4, 4, 4],\n",
       "        [5, 5, 5]])]"
      ]
     },
     "execution_count": 86,
     "metadata": {},
     "output_type": "execute_result"
    }
   ],
   "source": [
    "d=np.meshgrid([1,2,4],[2,4,5])\n",
    "d"
   ]
  },
  {
   "cell_type": "code",
   "execution_count": 88,
   "id": "a42c9ae0a1b9fae1",
   "metadata": {
    "ExecuteTime": {
     "end_time": "2023-09-13T07:22:01.999677Z",
     "start_time": "2023-09-13T07:22:01.991845Z"
    }
   },
   "outputs": [
    {
     "data": {
      "text/plain": [
       "array([[1., 2., 3., 1., 2., 3., 1., 2., 3., 1., 2., 3.],\n",
       "       [4., 5., 6., 4., 5., 6., 4., 5., 6., 4., 5., 6.],\n",
       "       [1., 2., 3., 1., 2., 3., 1., 2., 3., 1., 2., 3.],\n",
       "       [4., 5., 6., 4., 5., 6., 4., 5., 6., 4., 5., 6.],\n",
       "       [1., 2., 3., 1., 2., 3., 1., 2., 3., 1., 2., 3.],\n",
       "       [4., 5., 6., 4., 5., 6., 4., 5., 6., 4., 5., 6.],\n",
       "       [1., 2., 3., 1., 2., 3., 1., 2., 3., 1., 2., 3.],\n",
       "       [4., 5., 6., 4., 5., 6., 4., 5., 6., 4., 5., 6.],\n",
       "       [1., 2., 3., 1., 2., 3., 1., 2., 3., 1., 2., 3.],\n",
       "       [4., 5., 6., 4., 5., 6., 4., 5., 6., 4., 5., 6.],\n",
       "       [1., 2., 3., 1., 2., 3., 1., 2., 3., 1., 2., 3.],\n",
       "       [4., 5., 6., 4., 5., 6., 4., 5., 6., 4., 5., 6.],\n",
       "       [1., 2., 3., 1., 2., 3., 1., 2., 3., 1., 2., 3.],\n",
       "       [4., 5., 6., 4., 5., 6., 4., 5., 6., 4., 5., 6.],\n",
       "       [1., 2., 3., 1., 2., 3., 1., 2., 3., 1., 2., 3.],\n",
       "       [4., 5., 6., 4., 5., 6., 4., 5., 6., 4., 5., 6.]])"
      ]
     },
     "execution_count": 88,
     "metadata": {},
     "output_type": "execute_result"
    }
   ],
   "source": [
    "np.tile(a, (2, 2))"
   ]
  },
  {
   "cell_type": "code",
   "execution_count": 90,
   "id": "491fdb74d9af06c8",
   "metadata": {
    "ExecuteTime": {
     "end_time": "2023-09-13T07:22:34.848974Z",
     "start_time": "2023-09-13T07:22:34.832625Z"
    }
   },
   "outputs": [
    {
     "data": {
      "text/plain": [
       "array([[1., 2., 3., 1., 2., 3., 1., 2., 3., 1., 2., 3.],\n",
       "       [4., 5., 6., 4., 5., 6., 4., 5., 6., 4., 5., 6.],\n",
       "       [1., 2., 3., 1., 2., 3., 1., 2., 3., 1., 2., 3.],\n",
       "       [4., 5., 6., 4., 5., 6., 4., 5., 6., 4., 5., 6.],\n",
       "       [1., 2., 3., 1., 2., 3., 1., 2., 3., 1., 2., 3.],\n",
       "       [4., 5., 6., 4., 5., 6., 4., 5., 6., 4., 5., 6.],\n",
       "       [1., 2., 3., 1., 2., 3., 1., 2., 3., 1., 2., 3.],\n",
       "       [4., 5., 6., 4., 5., 6., 4., 5., 6., 4., 5., 6.]])"
      ]
     },
     "execution_count": 90,
     "metadata": {},
     "output_type": "execute_result"
    }
   ],
   "source": [
    "np.c_[a,a]"
   ]
  },
  {
   "cell_type": "code",
   "execution_count": 91,
   "id": "af546d5eb31a2410",
   "metadata": {
    "ExecuteTime": {
     "end_time": "2023-09-13T07:22:58.443501Z",
     "start_time": "2023-09-13T07:22:58.412860Z"
    }
   },
   "outputs": [
    {
     "data": {
      "text/plain": [
       "array([[1., 2., 3., 1., 2., 3.],\n",
       "       [4., 5., 6., 4., 5., 6.],\n",
       "       [1., 2., 3., 1., 2., 3.],\n",
       "       [4., 5., 6., 4., 5., 6.],\n",
       "       [1., 2., 3., 1., 2., 3.],\n",
       "       [4., 5., 6., 4., 5., 6.],\n",
       "       [1., 2., 3., 1., 2., 3.],\n",
       "       [4., 5., 6., 4., 5., 6.],\n",
       "       [1., 2., 3., 1., 2., 3.],\n",
       "       [4., 5., 6., 4., 5., 6.],\n",
       "       [1., 2., 3., 1., 2., 3.],\n",
       "       [4., 5., 6., 4., 5., 6.],\n",
       "       [1., 2., 3., 1., 2., 3.],\n",
       "       [4., 5., 6., 4., 5., 6.],\n",
       "       [1., 2., 3., 1., 2., 3.],\n",
       "       [4., 5., 6., 4., 5., 6.]])"
      ]
     },
     "execution_count": 91,
     "metadata": {},
     "output_type": "execute_result"
    }
   ],
   "source": [
    "np.r_[a,a]"
   ]
  },
  {
   "cell_type": "code",
   "execution_count": 92,
   "id": "fb2b9a21d24a7503",
   "metadata": {
    "ExecuteTime": {
     "end_time": "2023-09-13T07:24:41.682768Z",
     "start_time": "2023-09-13T07:24:41.644948Z"
    }
   },
   "outputs": [
    {
     "data": {
      "text/plain": [
       "6.0"
      ]
     },
     "execution_count": 92,
     "metadata": {},
     "output_type": "execute_result"
    }
   ],
   "source": [
    "a.max()"
   ]
  },
  {
   "cell_type": "code",
   "execution_count": 93,
   "id": "6c767e1305ee49be",
   "metadata": {
    "ExecuteTime": {
     "end_time": "2023-09-13T07:24:46.950356Z",
     "start_time": "2023-09-13T07:24:46.911033Z"
    }
   },
   "outputs": [
    {
     "data": {
      "text/plain": [
       "array([4., 5., 6., 4., 5., 6.])"
      ]
     },
     "execution_count": 93,
     "metadata": {},
     "output_type": "execute_result"
    }
   ],
   "source": [
    "a.max(0)    # 0th dimension"
   ]
  },
  {
   "cell_type": "code",
   "execution_count": 94,
   "id": "c387c909e99eb8d7",
   "metadata": {
    "ExecuteTime": {
     "end_time": "2023-09-13T07:24:57.727967Z",
     "start_time": "2023-09-13T07:24:57.691308Z"
    }
   },
   "outputs": [
    {
     "data": {
      "text/plain": [
       "array([3., 6., 3., 6., 3., 6., 3., 6.])"
      ]
     },
     "execution_count": 94,
     "metadata": {},
     "output_type": "execute_result"
    }
   ],
   "source": [
    "a.max(1)# 1st dimension"
   ]
  },
  {
   "cell_type": "code",
   "execution_count": 96,
   "id": "c39ec6bc804d4950",
   "metadata": {
    "ExecuteTime": {
     "end_time": "2023-09-13T07:25:47.795956Z",
     "start_time": "2023-09-13T07:25:47.784476Z"
    }
   },
   "outputs": [
    {
     "data": {
      "text/plain": [
       "array([[1., 2., 3., 1., 2., 3.],\n",
       "       [4., 5., 6., 4., 5., 6.],\n",
       "       [1., 2., 3., 1., 2., 3.],\n",
       "       [4., 5., 6., 4., 5., 6.],\n",
       "       [1., 2., 3., 1., 2., 3.],\n",
       "       [4., 5., 6., 4., 5., 6.],\n",
       "       [1., 2., 3., 1., 2., 3.],\n",
       "       [4., 5., 6., 4., 5., 6.]])"
      ]
     },
     "execution_count": 96,
     "metadata": {},
     "output_type": "execute_result"
    }
   ],
   "source": [
    "np.maximum(a, a)"
   ]
  },
  {
   "cell_type": "code",
   "execution_count": 97,
   "id": "2ebc55f579c14758",
   "metadata": {
    "ExecuteTime": {
     "end_time": "2023-09-13T07:26:22.712244Z",
     "start_time": "2023-09-13T07:26:22.686576Z"
    }
   },
   "outputs": [
    {
     "data": {
      "text/plain": [
       "26.981475126464083"
      ]
     },
     "execution_count": 97,
     "metadata": {},
     "output_type": "execute_result"
    }
   ],
   "source": [
    "np.linalg.norm(a)\n",
    "#L2 norm of vector v\n",
    "\n"
   ]
  },
  {
   "cell_type": "code",
   "execution_count": 99,
   "id": "8127224e533bdf98",
   "metadata": {
    "ExecuteTime": {
     "end_time": "2023-09-13T07:27:42.662555Z",
     "start_time": "2023-09-13T07:27:42.645191Z"
    }
   },
   "outputs": [
    {
     "data": {
      "text/plain": [
       "array([[ True,  True,  True,  True,  True,  True],\n",
       "       [ True,  True,  True,  True,  True,  True],\n",
       "       [ True,  True,  True,  True,  True,  True],\n",
       "       [ True,  True,  True,  True,  True,  True],\n",
       "       [ True,  True,  True,  True,  True,  True],\n",
       "       [ True,  True,  True,  True,  True,  True],\n",
       "       [ True,  True,  True,  True,  True,  True],\n",
       "       [ True,  True,  True,  True,  True,  True]])"
      ]
     },
     "execution_count": 99,
     "metadata": {},
     "output_type": "execute_result"
    }
   ],
   "source": [
    "np.logical_and(a,a)"
   ]
  },
  {
   "cell_type": "code",
   "execution_count": 100,
   "id": "48d5106e2f708121",
   "metadata": {
    "ExecuteTime": {
     "end_time": "2023-09-13T07:27:50.066325Z",
     "start_time": "2023-09-13T07:27:50.038987Z"
    }
   },
   "outputs": [
    {
     "data": {
      "text/plain": [
       "array([[ True,  True,  True,  True,  True,  True],\n",
       "       [ True,  True,  True,  True,  True,  True],\n",
       "       [ True,  True,  True,  True,  True,  True],\n",
       "       [ True,  True,  True,  True,  True,  True],\n",
       "       [ True,  True,  True,  True,  True,  True],\n",
       "       [ True,  True,  True,  True,  True,  True],\n",
       "       [ True,  True,  True,  True,  True,  True],\n",
       "       [ True,  True,  True,  True,  True,  True]])"
      ]
     },
     "execution_count": 100,
     "metadata": {},
     "output_type": "execute_result"
    }
   ],
   "source": [
    "np.logical_or(a,a)"
   ]
  },
  {
   "cell_type": "code",
   "execution_count": 105,
   "id": "727d6a7167f0dfd",
   "metadata": {
    "ExecuteTime": {
     "end_time": "2023-09-13T07:28:47.933081Z",
     "start_time": "2023-09-13T07:28:47.924570Z"
    }
   },
   "outputs": [
    {
     "data": {
      "text/plain": [
       "4"
      ]
     },
     "execution_count": 105,
     "metadata": {},
     "output_type": "execute_result"
    }
   ],
   "source": [
    "4&5"
   ]
  },
  {
   "cell_type": "code",
   "execution_count": 106,
   "id": "80b57e89d6271851",
   "metadata": {
    "ExecuteTime": {
     "end_time": "2023-09-13T07:28:59.564209Z",
     "start_time": "2023-09-13T07:28:59.527752Z"
    }
   },
   "outputs": [
    {
     "data": {
      "text/plain": [
       "5"
      ]
     },
     "execution_count": 106,
     "metadata": {},
     "output_type": "execute_result"
    }
   ],
   "source": [
    "4|5"
   ]
  },
  {
   "cell_type": "code",
   "execution_count": 108,
   "id": "5ad725c3ea6e806a",
   "metadata": {
    "ExecuteTime": {
     "end_time": "2023-09-13T07:30:42.995238Z",
     "start_time": "2023-09-13T07:30:42.989912Z"
    }
   },
   "outputs": [
    {
     "data": {
      "text/plain": [
       "array([[-2. ,  1. ],\n",
       "       [ 1.5, -0.5]])"
      ]
     },
     "execution_count": 108,
     "metadata": {},
     "output_type": "execute_result"
    }
   ],
   "source": [
    "linalg.inv( [[1., 2.], [3., 4.]] )"
   ]
  },
  {
   "cell_type": "code",
   "execution_count": 109,
   "id": "b62f9842f6f65906",
   "metadata": {
    "ExecuteTime": {
     "end_time": "2023-09-13T07:31:05.452165Z",
     "start_time": "2023-09-13T07:31:05.407734Z"
    }
   },
   "outputs": [
    {
     "data": {
      "text/plain": [
       "array([[-2. ,  1. ],\n",
       "       [ 1.5, -0.5]])"
      ]
     },
     "execution_count": 109,
     "metadata": {},
     "output_type": "execute_result"
    }
   ],
   "source": [
    "c=np.array([[1., 2.], [3., 4.]])\n",
    "linalg.pinv(c)\n",
    "# pinv(a)\t\tpseudo-inverse of matrix a\n",
    "# it is a generalization of the inverse matrix\n"
   ]
  },
  {
   "cell_type": "code",
   "execution_count": 110,
   "id": "371f6e74ddd757a0",
   "metadata": {
    "ExecuteTime": {
     "end_time": "2023-09-13T07:33:02.161894Z",
     "start_time": "2023-09-13T07:33:02.120702Z"
    }
   },
   "outputs": [
    {
     "data": {
      "text/plain": [
       "2"
      ]
     },
     "execution_count": 110,
     "metadata": {},
     "output_type": "execute_result"
    }
   ],
   "source": [
    "np.linalg.matrix_rank(a)\n",
    "\n"
   ]
  },
  {
   "cell_type": "code",
   "execution_count": 111,
   "id": "88a2c364d8c5e318",
   "metadata": {
    "ExecuteTime": {
     "end_time": "2023-09-13T07:33:33.068595Z",
     "start_time": "2023-09-13T07:33:33.030387Z"
    }
   },
   "outputs": [
    {
     "ename": "ValueError",
     "evalue": "Input a needs to be a square matrix.",
     "output_type": "error",
     "traceback": [
      "\u001b[0;31m---------------------------------------------------------------------------\u001b[0m",
      "\u001b[0;31mValueError\u001b[0m                                Traceback (most recent call last)",
      "Cell \u001b[0;32mIn[111], line 1\u001b[0m\n\u001b[0;32m----> 1\u001b[0m linalg\u001b[38;5;241m.\u001b[39msolve(a, b)\n",
      "File \u001b[0;32m~/anaconda3/lib/python3.11/site-packages/scipy/linalg/_basic.py:151\u001b[0m, in \u001b[0;36msolve\u001b[0;34m(a, b, sym_pos, lower, overwrite_a, overwrite_b, check_finite, assume_a, transposed)\u001b[0m\n\u001b[1;32m    148\u001b[0m overwrite_b \u001b[38;5;241m=\u001b[39m overwrite_b \u001b[38;5;129;01mor\u001b[39;00m _datacopied(b1, b)\n\u001b[1;32m    150\u001b[0m \u001b[38;5;28;01mif\u001b[39;00m a1\u001b[38;5;241m.\u001b[39mshape[\u001b[38;5;241m0\u001b[39m] \u001b[38;5;241m!=\u001b[39m a1\u001b[38;5;241m.\u001b[39mshape[\u001b[38;5;241m1\u001b[39m]:\n\u001b[0;32m--> 151\u001b[0m     \u001b[38;5;28;01mraise\u001b[39;00m \u001b[38;5;167;01mValueError\u001b[39;00m(\u001b[38;5;124m'\u001b[39m\u001b[38;5;124mInput a needs to be a square matrix.\u001b[39m\u001b[38;5;124m'\u001b[39m)\n\u001b[1;32m    153\u001b[0m \u001b[38;5;28;01mif\u001b[39;00m n \u001b[38;5;241m!=\u001b[39m b1\u001b[38;5;241m.\u001b[39mshape[\u001b[38;5;241m0\u001b[39m]:\n\u001b[1;32m    154\u001b[0m     \u001b[38;5;66;03m# Last chance to catch 1x1 scalar a and 1-D b arrays\u001b[39;00m\n\u001b[1;32m    155\u001b[0m     \u001b[38;5;28;01mif\u001b[39;00m \u001b[38;5;129;01mnot\u001b[39;00m (n \u001b[38;5;241m==\u001b[39m \u001b[38;5;241m1\u001b[39m \u001b[38;5;129;01mand\u001b[39;00m b1\u001b[38;5;241m.\u001b[39msize \u001b[38;5;241m!=\u001b[39m \u001b[38;5;241m0\u001b[39m):\n",
      "\u001b[0;31mValueError\u001b[0m: Input a needs to be a square matrix."
     ]
    }
   ],
   "source": [
    "linalg.solve(a, b)"
   ]
  },
  {
   "cell_type": "code",
   "execution_count": 112,
   "id": "15d1107e6ed9ee3",
   "metadata": {
    "ExecuteTime": {
     "end_time": "2023-09-13T07:33:41.536916Z",
     "start_time": "2023-09-13T07:33:41.516112Z"
    }
   },
   "outputs": [
    {
     "ename": "ValueError",
     "evalue": "Shape mismatch: a and b should have the same number of rows (8 != 48).",
     "output_type": "error",
     "traceback": [
      "\u001b[0;31m---------------------------------------------------------------------------\u001b[0m",
      "\u001b[0;31mValueError\u001b[0m                                Traceback (most recent call last)",
      "Cell \u001b[0;32mIn[112], line 1\u001b[0m\n\u001b[0;32m----> 1\u001b[0m linalg\u001b[38;5;241m.\u001b[39mlstsq(a, b)\n",
      "File \u001b[0;32m~/anaconda3/lib/python3.11/site-packages/scipy/linalg/_basic.py:1165\u001b[0m, in \u001b[0;36mlstsq\u001b[0;34m(a, b, cond, overwrite_a, overwrite_b, check_finite, lapack_driver)\u001b[0m\n\u001b[1;32m   1163\u001b[0m     nrhs \u001b[38;5;241m=\u001b[39m \u001b[38;5;241m1\u001b[39m\n\u001b[1;32m   1164\u001b[0m \u001b[38;5;28;01mif\u001b[39;00m m \u001b[38;5;241m!=\u001b[39m b1\u001b[38;5;241m.\u001b[39mshape[\u001b[38;5;241m0\u001b[39m]:\n\u001b[0;32m-> 1165\u001b[0m     \u001b[38;5;28;01mraise\u001b[39;00m \u001b[38;5;167;01mValueError\u001b[39;00m(\u001b[38;5;124m'\u001b[39m\u001b[38;5;124mShape mismatch: a and b should have the same number\u001b[39m\u001b[38;5;124m'\u001b[39m\n\u001b[1;32m   1166\u001b[0m                      \u001b[38;5;124m'\u001b[39m\u001b[38;5;124m of rows (\u001b[39m\u001b[38;5;132;01m{}\u001b[39;00m\u001b[38;5;124m != \u001b[39m\u001b[38;5;132;01m{}\u001b[39;00m\u001b[38;5;124m).\u001b[39m\u001b[38;5;124m'\u001b[39m\u001b[38;5;241m.\u001b[39mformat(m, b1\u001b[38;5;241m.\u001b[39mshape[\u001b[38;5;241m0\u001b[39m]))\n\u001b[1;32m   1167\u001b[0m \u001b[38;5;28;01mif\u001b[39;00m m \u001b[38;5;241m==\u001b[39m \u001b[38;5;241m0\u001b[39m \u001b[38;5;129;01mor\u001b[39;00m n \u001b[38;5;241m==\u001b[39m \u001b[38;5;241m0\u001b[39m:  \u001b[38;5;66;03m# Zero-sized problem, confuses LAPACK\u001b[39;00m\n\u001b[1;32m   1168\u001b[0m     x \u001b[38;5;241m=\u001b[39m np\u001b[38;5;241m.\u001b[39mzeros((n,) \u001b[38;5;241m+\u001b[39m b1\u001b[38;5;241m.\u001b[39mshape[\u001b[38;5;241m1\u001b[39m:], dtype\u001b[38;5;241m=\u001b[39mnp\u001b[38;5;241m.\u001b[39mcommon_type(a1, b1))\n",
      "\u001b[0;31mValueError\u001b[0m: Shape mismatch: a and b should have the same number of rows (8 != 48)."
     ]
    }
   ],
   "source": [
    "linalg.lstsq(a, b) "
   ]
  },
  {
   "cell_type": "code",
   "execution_count": 119,
   "id": "385e7b18b005b2e7",
   "metadata": {
    "ExecuteTime": {
     "end_time": "2023-09-13T07:37:00.849365Z",
     "start_time": "2023-09-13T07:37:00.835731Z"
    }
   },
   "outputs": [
    {
     "data": {
      "text/plain": [
       "array([[1., 2., 1., 2.],\n",
       "       [3., 4., 3., 4.],\n",
       "       [1., 2., 1., 2.],\n",
       "       [3., 4., 3., 4.]])"
      ]
     },
     "execution_count": 119,
     "metadata": {},
     "output_type": "execute_result"
    }
   ],
   "source": [
    "b=np.block([[c,c],[c,c]])\n",
    "b"
   ]
  },
  {
   "cell_type": "code",
   "execution_count": 121,
   "id": "9e2e83db9f9fc00c",
   "metadata": {
    "ExecuteTime": {
     "end_time": "2023-09-13T07:38:02.206613Z",
     "start_time": "2023-09-13T07:38:02.187794Z"
    }
   },
   "outputs": [],
   "source": [
    "b=np.block([[b,b],[b,b]])"
   ]
  },
  {
   "cell_type": "code",
   "execution_count": 123,
   "id": "9bddbe2a905e5630",
   "metadata": {
    "ExecuteTime": {
     "end_time": "2023-09-13T07:38:44.536795Z",
     "start_time": "2023-09-13T07:38:44.519357Z"
    }
   },
   "outputs": [
    {
     "data": {
      "text/plain": [
       "(array([[ 0.19444444, -0.05555556,  0.19444444, -0.05555556,  0.19444444,\n",
       "         -0.05555556,  0.19444444, -0.05555556],\n",
       "        [ 0.11111111,  0.11111111,  0.11111111,  0.11111111,  0.11111111,\n",
       "          0.11111111,  0.11111111,  0.11111111],\n",
       "        [ 0.02777778,  0.27777778,  0.02777778,  0.27777778,  0.02777778,\n",
       "          0.27777778,  0.02777778,  0.27777778],\n",
       "        [ 0.19444444, -0.05555556,  0.19444444, -0.05555556,  0.19444444,\n",
       "         -0.05555556,  0.19444444, -0.05555556],\n",
       "        [ 0.11111111,  0.11111111,  0.11111111,  0.11111111,  0.11111111,\n",
       "          0.11111111,  0.11111111,  0.11111111],\n",
       "        [ 0.02777778,  0.27777778,  0.02777778,  0.27777778,  0.02777778,\n",
       "          0.27777778,  0.02777778,  0.27777778]]),\n",
       " array([], dtype=float64),\n",
       " 2,\n",
       " array([2.68927756e+01, 2.18600544e+00, 7.27940913e-16, 6.90694916e-17,\n",
       "        1.61724041e-32, 2.18683269e-34]))"
      ]
     },
     "execution_count": 123,
     "metadata": {},
     "output_type": "execute_result"
    }
   ],
   "source": [
    "linalg.lstsq(a,b)"
   ]
  },
  {
   "cell_type": "code",
   "execution_count": 124,
   "id": "a465111fa520396f",
   "metadata": {
    "ExecuteTime": {
     "end_time": "2023-09-13T07:40:32.037160Z",
     "start_time": "2023-09-13T07:40:32.006323Z"
    }
   },
   "outputs": [
    {
     "data": {
      "text/plain": [
       "array([[-0.30311344, -0.56990255, -0.02283233,  0.75803221, -0.08218663,\n",
       "         0.03800718],\n",
       "       [-0.40043946, -0.07946637, -0.47248736, -0.3192523 , -0.6470219 ,\n",
       "         0.29921507],\n",
       "       [-0.49776549,  0.41096981,  0.2631071 ,  0.11861028,  0.30251179,\n",
       "         0.63916055],\n",
       "       [-0.30311344, -0.56990255,  0.54904652, -0.52081164,  0.09360838,\n",
       "        -0.04328916],\n",
       "       [-0.40043946, -0.07946637, -0.57994104, -0.15518883,  0.62417841,\n",
       "        -0.2886511 ],\n",
       "       [-0.49776549,  0.41096981,  0.2631071 ,  0.11861028, -0.29109004,\n",
       "        -0.64444253]])"
      ]
     },
     "execution_count": 124,
     "metadata": {},
     "output_type": "execute_result"
    }
   ],
   "source": [
    "#singular value decomposition of a\n",
    "#奇异值分解\n",
    "U, S, Vh = linalg.svd(a)\n",
    "V = Vh.T\n",
    "V\n",
    "\n",
    "\n"
   ]
  },
  {
   "cell_type": "code",
   "execution_count": 131,
   "id": "b34e0f0b84183c00",
   "metadata": {
    "ExecuteTime": {
     "end_time": "2023-09-13T07:47:28.903608Z",
     "start_time": "2023-09-13T07:47:28.885292Z"
    }
   },
   "outputs": [
    {
     "data": {
      "text/plain": [
       "array([[2.        , 1.        , 0.        ],\n",
       "       [0.        , 1.73205081, 1.15470054],\n",
       "       [0.        , 0.        , 1.63299316]])"
      ]
     },
     "execution_count": 131,
     "metadata": {},
     "output_type": "execute_result"
    }
   ],
   "source": [
    "#give me a symmetric positive definite matrix\n",
    "d = np.array([[4,2,0],[2,4,2],[0,2,4]])\n",
    "linalg.cholesky(d)\n",
    "#a必须是实对称正定矩阵\n"
   ]
  },
  {
   "cell_type": "code",
   "execution_count": 135,
   "id": "986c3562ffd7efcc",
   "metadata": {
    "ExecuteTime": {
     "end_time": "2023-09-13T07:48:06.096019Z",
     "start_time": "2023-09-13T07:48:06.077510Z"
    }
   },
   "outputs": [
    {
     "data": {
      "text/plain": [
       "(array([6.82842712+0.j, 4.        +0.j, 1.17157288+0.j]),\n",
       " array([[-5.00000000e-01,  7.07106781e-01,  5.00000000e-01],\n",
       "        [-7.07106781e-01,  6.67337348e-16, -7.07106781e-01],\n",
       "        [-5.00000000e-01, -7.07106781e-01,  5.00000000e-01]]))"
      ]
     },
     "execution_count": 135,
     "metadata": {},
     "output_type": "execute_result"
    }
   ],
   "source": [
    "D,V = linalg.eig(d)\n",
    "D,V"
   ]
  },
  {
   "cell_type": "code",
   "execution_count": 137,
   "id": "940b31c85fd33565",
   "metadata": {
    "ExecuteTime": {
     "end_time": "2023-09-13T07:48:46.952105Z",
     "start_time": "2023-09-13T07:48:46.927744Z"
    }
   },
   "outputs": [
    {
     "data": {
      "text/plain": [
       "(array([0.5+0.j, 0.5+0.j, 0.5+0.j]),\n",
       " array([[-1.        , -0.22923716,  0.04614145],\n",
       "        [-0.        , -0.87060913,  0.4596367 ],\n",
       "        [-0.        ,  0.43530457,  0.88690759]]))"
      ]
     },
     "execution_count": 137,
     "metadata": {},
     "output_type": "execute_result"
    }
   ],
   "source": [
    "D,V = linalg.eig(d,2*d)\n",
    "D,V\n"
   ]
  },
  {
   "cell_type": "code",
   "execution_count": 140,
   "id": "1cb249fe2ea00153",
   "metadata": {
    "ExecuteTime": {
     "end_time": "2023-09-13T07:53:28.598254Z",
     "start_time": "2023-09-13T07:53:28.581347Z"
    }
   },
   "outputs": [
    {
     "data": {
      "text/plain": [
       "(array([ 2.14891253e+01+0.j,  3.20087767e-16+0.j, -1.48912529e+00+0.j]),\n",
       " array([[-0.20798678+0.j,  0.20500347+0.j,  0.41228242+0.j],\n",
       "        [-0.45468835+0.j, -0.20229001+0.j, -0.28288373+0.j],\n",
       "        [-0.20798678+0.j,  0.39268159+0.j,  0.41228242+0.j],\n",
       "        [-0.45468835+0.j,  0.48383761+0.j, -0.28288373+0.j],\n",
       "        [-0.20798678+0.j, -0.406418  +0.j,  0.41228242+0.j],\n",
       "        [-0.45468835+0.j, -0.51982621+0.j, -0.28288373+0.j],\n",
       "        [-0.20798678+0.j, -0.19126707+0.j,  0.41228242+0.j],\n",
       "        [-0.45468835+0.j,  0.23827861+0.j, -0.28288373+0.j]]))"
      ]
     },
     "execution_count": 140,
     "metadata": {},
     "output_type": "execute_result"
    }
   ],
   "source": [
    "D,V = eigs(b, k=3)\n",
    "D,V\n"
   ]
  },
  {
   "cell_type": "code",
   "execution_count": 141,
   "id": "63ddfbd40a9778ea",
   "metadata": {
    "ExecuteTime": {
     "end_time": "2023-09-13T07:57:13.217922Z",
     "start_time": "2023-09-13T07:57:13.186013Z"
    }
   },
   "outputs": [
    {
     "data": {
      "text/plain": [
       "(array([[-1.21267813e-01,  4.85071250e-01,  8.65406187e-01,\n",
       "         -3.27434245e-02, -5.47583570e-17,  2.48784615e-19,\n",
       "          1.02241991e-17, -2.16216926e-17],\n",
       "        [-4.85071250e-01, -1.21267813e-01,  3.27434245e-02,\n",
       "          8.65406187e-01, -2.23214369e-15,  1.83537270e-17,\n",
       "         -1.89168450e-17,  6.88107471e-18],\n",
       "        [-1.21267813e-01,  4.85071250e-01, -2.88468729e-01,\n",
       "          1.09144748e-02,  8.16220608e-01, -2.12270080e-02,\n",
       "          5.92553690e-18,  3.61835724e-18],\n",
       "        [-4.85071250e-01, -1.21267813e-01, -1.09144748e-02,\n",
       "         -2.88468729e-01,  2.12270080e-02,  8.16220608e-01,\n",
       "         -6.73022559e-15, -2.54821775e-16],\n",
       "        [-1.21267813e-01,  4.85071250e-01, -2.88468729e-01,\n",
       "          1.09144748e-02, -4.08110304e-01,  1.06135040e-02,\n",
       "         -7.06782556e-01, -2.14107157e-02],\n",
       "        [-4.85071250e-01, -1.21267813e-01, -1.09144748e-02,\n",
       "         -2.88468729e-01, -1.06135040e-02, -4.08110304e-01,\n",
       "          2.14107157e-02, -7.06782556e-01],\n",
       "        [-1.21267813e-01,  4.85071250e-01, -2.88468729e-01,\n",
       "          1.09144748e-02, -4.08110304e-01,  1.06135040e-02,\n",
       "          7.06782556e-01,  2.14107157e-02],\n",
       "        [-4.85071250e-01, -1.21267813e-01, -1.09144748e-02,\n",
       "         -2.88468729e-01, -1.06135040e-02, -4.08110304e-01,\n",
       "         -2.14107157e-02,  7.06782556e-01]]),\n",
       " array([[-8.24621125e+00, -1.06715675e+01, -1.30969238e+01,\n",
       "         -8.24621125e+00, -1.06715675e+01, -1.30969238e+01],\n",
       "        [ 0.00000000e+00,  1.45521375e+00,  2.91042750e+00,\n",
       "          2.23763068e-16,  1.45521375e+00,  2.91042750e+00],\n",
       "        [ 0.00000000e+00,  0.00000000e+00,  9.15516323e-16,\n",
       "          3.99211338e-16,  4.34616879e-17,  9.15516323e-16],\n",
       "        [ 0.00000000e+00,  0.00000000e+00,  0.00000000e+00,\n",
       "         -1.51045215e-17, -3.10560590e-16, -6.33005299e-32],\n",
       "        [ 0.00000000e+00,  0.00000000e+00,  0.00000000e+00,\n",
       "          0.00000000e+00,  7.93466240e-31, -1.67497090e-31],\n",
       "        [ 0.00000000e+00,  0.00000000e+00,  0.00000000e+00,\n",
       "          0.00000000e+00,  0.00000000e+00,  4.35600624e-33],\n",
       "        [ 0.00000000e+00,  0.00000000e+00,  0.00000000e+00,\n",
       "          0.00000000e+00,  0.00000000e+00,  0.00000000e+00],\n",
       "        [ 0.00000000e+00,  0.00000000e+00,  0.00000000e+00,\n",
       "          0.00000000e+00,  0.00000000e+00,  0.00000000e+00]]))"
      ]
     },
     "execution_count": 141,
     "metadata": {},
     "output_type": "execute_result"
    }
   ],
   "source": [
    "Q,R = linalg.qr(a)\n",
    "Q,R\n"
   ]
  },
  {
   "cell_type": "code",
   "execution_count": 144,
   "id": "5d8c3b6fc5d36495",
   "metadata": {
    "ExecuteTime": {
     "end_time": "2023-09-13T07:57:53.074219Z",
     "start_time": "2023-09-13T07:57:53.034165Z"
    }
   },
   "outputs": [
    {
     "data": {
      "text/plain": [
       "(array([[0., 1., 0., 0., 0., 0., 0., 0.],\n",
       "        [1., 0., 0., 0., 0., 0., 0., 0.],\n",
       "        [0., 0., 1., 0., 0., 0., 0., 0.],\n",
       "        [0., 0., 0., 1., 0., 0., 0., 0.],\n",
       "        [0., 0., 0., 0., 1., 0., 0., 0.],\n",
       "        [0., 0., 0., 0., 0., 1., 0., 0.],\n",
       "        [0., 0., 0., 0., 0., 0., 1., 0.],\n",
       "        [0., 0., 0., 0., 0., 0., 0., 1.]]),\n",
       " array([[1.  , 0.  , 0.  , 0.  , 0.  , 0.  ],\n",
       "        [0.25, 1.  , 0.  , 0.  , 0.  , 0.  ],\n",
       "        [0.25, 1.  , 1.  , 0.  , 0.  , 0.  ],\n",
       "        [1.  , 0.  , 0.  , 1.  , 0.  , 0.  ],\n",
       "        [0.25, 1.  , 0.  , 0.  , 1.  , 0.  ],\n",
       "        [1.  , 0.  , 0.  , 0.  , 0.  , 1.  ],\n",
       "        [0.25, 1.  , 0.  , 0.  , 0.  , 0.  ],\n",
       "        [1.  , 0.  , 0.  , 0.  , 0.  , 0.  ]]),\n",
       " array([[4.  , 5.  , 6.  , 4.  , 5.  , 6.  ],\n",
       "        [0.  , 0.75, 1.5 , 0.  , 0.75, 1.5 ],\n",
       "        [0.  , 0.  , 0.  , 0.  , 0.  , 0.  ],\n",
       "        [0.  , 0.  , 0.  , 0.  , 0.  , 0.  ],\n",
       "        [0.  , 0.  , 0.  , 0.  , 0.  , 0.  ],\n",
       "        [0.  , 0.  , 0.  , 0.  , 0.  , 0.  ]]))"
      ]
     },
     "execution_count": 144,
     "metadata": {},
     "output_type": "execute_result"
    }
   ],
   "source": [
    "linalg.lu(a)\n",
    "#P,L,U"
   ]
  },
  {
   "cell_type": "code",
   "execution_count": 145,
   "id": "6ac785d4a1d8c904",
   "metadata": {
    "ExecuteTime": {
     "end_time": "2023-09-13T07:58:21.192750Z",
     "start_time": "2023-09-13T07:58:21.168916Z"
    }
   },
   "outputs": [
    {
     "data": {
      "text/plain": [
       "array([[12.+0.j        ,  0.+0.j        , -3.+1.73205081j,\n",
       "         0.+0.j        , -3.-1.73205081j,  0.+0.j        ],\n",
       "       [30.+0.j        ,  0.+0.j        , -3.+1.73205081j,\n",
       "         0.+0.j        , -3.-1.73205081j,  0.+0.j        ],\n",
       "       [12.+0.j        ,  0.+0.j        , -3.+1.73205081j,\n",
       "         0.+0.j        , -3.-1.73205081j,  0.+0.j        ],\n",
       "       [30.+0.j        ,  0.+0.j        , -3.+1.73205081j,\n",
       "         0.+0.j        , -3.-1.73205081j,  0.+0.j        ],\n",
       "       [12.+0.j        ,  0.+0.j        , -3.+1.73205081j,\n",
       "         0.+0.j        , -3.-1.73205081j,  0.+0.j        ],\n",
       "       [30.+0.j        ,  0.+0.j        , -3.+1.73205081j,\n",
       "         0.+0.j        , -3.-1.73205081j,  0.+0.j        ],\n",
       "       [12.+0.j        ,  0.+0.j        , -3.+1.73205081j,\n",
       "         0.+0.j        , -3.-1.73205081j,  0.+0.j        ],\n",
       "       [30.+0.j        ,  0.+0.j        , -3.+1.73205081j,\n",
       "         0.+0.j        , -3.-1.73205081j,  0.+0.j        ]])"
      ]
     },
     "execution_count": 145,
     "metadata": {},
     "output_type": "execute_result"
    }
   ],
   "source": [
    "np.fft.fft(a)"
   ]
  },
  {
   "cell_type": "code",
   "execution_count": 146,
   "id": "c154ee29ad061ed7",
   "metadata": {
    "ExecuteTime": {
     "end_time": "2023-09-13T07:58:27.512273Z",
     "start_time": "2023-09-13T07:58:27.467335Z"
    }
   },
   "outputs": [
    {
     "data": {
      "text/plain": [
       "array([[ 2. +0.j        ,  0. +0.j        , -0.5-0.28867513j,\n",
       "         0. +0.j        , -0.5+0.28867513j,  0. +0.j        ],\n",
       "       [ 5. +0.j        ,  0. +0.j        , -0.5-0.28867513j,\n",
       "         0. +0.j        , -0.5+0.28867513j,  0. +0.j        ],\n",
       "       [ 2. +0.j        ,  0. +0.j        , -0.5-0.28867513j,\n",
       "         0. +0.j        , -0.5+0.28867513j,  0. +0.j        ],\n",
       "       [ 5. +0.j        ,  0. +0.j        , -0.5-0.28867513j,\n",
       "         0. +0.j        , -0.5+0.28867513j,  0. +0.j        ],\n",
       "       [ 2. +0.j        ,  0. +0.j        , -0.5-0.28867513j,\n",
       "         0. +0.j        , -0.5+0.28867513j,  0. +0.j        ],\n",
       "       [ 5. +0.j        ,  0. +0.j        , -0.5-0.28867513j,\n",
       "         0. +0.j        , -0.5+0.28867513j,  0. +0.j        ],\n",
       "       [ 2. +0.j        ,  0. +0.j        , -0.5-0.28867513j,\n",
       "         0. +0.j        , -0.5+0.28867513j,  0. +0.j        ],\n",
       "       [ 5. +0.j        ,  0. +0.j        , -0.5-0.28867513j,\n",
       "         0. +0.j        , -0.5+0.28867513j,  0. +0.j        ]])"
      ]
     },
     "execution_count": 146,
     "metadata": {},
     "output_type": "execute_result"
    }
   ],
   "source": [
    "np.fft.ifft(a)\n",
    "\n"
   ]
  },
  {
   "cell_type": "code",
   "execution_count": 147,
   "id": "2b58f649355e58b3",
   "metadata": {
    "ExecuteTime": {
     "end_time": "2023-09-13T07:58:36.161320Z",
     "start_time": "2023-09-13T07:58:36.117673Z"
    }
   },
   "outputs": [
    {
     "data": {
      "text/plain": [
       "array([[1., 1., 2., 2., 3., 3.],\n",
       "       [4., 4., 5., 5., 6., 6.],\n",
       "       [1., 1., 2., 2., 3., 3.],\n",
       "       [4., 4., 5., 5., 6., 6.],\n",
       "       [1., 1., 2., 2., 3., 3.],\n",
       "       [4., 4., 5., 5., 6., 6.],\n",
       "       [1., 1., 2., 2., 3., 3.],\n",
       "       [4., 4., 5., 5., 6., 6.]])"
      ]
     },
     "execution_count": 147,
     "metadata": {},
     "output_type": "execute_result"
    }
   ],
   "source": [
    "np.sort(a)"
   ]
  },
  {
   "cell_type": "code",
   "execution_count": 148,
   "id": "78d180e99531429d",
   "metadata": {
    "ExecuteTime": {
     "end_time": "2023-09-13T07:58:44.289321Z",
     "start_time": "2023-09-13T07:58:44.243711Z"
    }
   },
   "outputs": [
    {
     "data": {
      "text/plain": [
       "array([[1., 1., 2., 2., 3., 3.],\n",
       "       [4., 4., 5., 5., 6., 6.],\n",
       "       [1., 1., 2., 2., 3., 3.],\n",
       "       [4., 4., 5., 5., 6., 6.],\n",
       "       [1., 1., 2., 2., 3., 3.],\n",
       "       [4., 4., 5., 5., 6., 6.],\n",
       "       [1., 1., 2., 2., 3., 3.],\n",
       "       [4., 4., 5., 5., 6., 6.]])"
      ]
     },
     "execution_count": 148,
     "metadata": {},
     "output_type": "execute_result"
    }
   ],
   "source": [
    "np.sort(a, axis=1)"
   ]
  },
  {
   "cell_type": "code",
   "execution_count": 150,
   "id": "ef15352a2ed41c28",
   "metadata": {
    "ExecuteTime": {
     "end_time": "2023-09-13T07:59:06.051169Z",
     "start_time": "2023-09-13T07:59:06.032944Z"
    }
   },
   "outputs": [
    {
     "data": {
      "text/plain": [
       "array([[1., 2., 3., 1., 2., 3.],\n",
       "       [1., 2., 3., 1., 2., 3.],\n",
       "       [1., 2., 3., 1., 2., 3.],\n",
       "       [1., 2., 3., 1., 2., 3.],\n",
       "       [4., 5., 6., 4., 5., 6.],\n",
       "       [4., 5., 6., 4., 5., 6.],\n",
       "       [4., 5., 6., 4., 5., 6.],\n",
       "       [4., 5., 6., 4., 5., 6.]])"
      ]
     },
     "execution_count": 150,
     "metadata": {},
     "output_type": "execute_result"
    }
   ],
   "source": [
    "I = np.argsort(a[:, 0]); b = a[I,:]\n",
    "b"
   ]
  },
  {
   "cell_type": "code",
   "execution_count": 152,
   "id": "1cbf7e0816ece0c1",
   "metadata": {
    "ExecuteTime": {
     "end_time": "2023-09-13T07:59:51.497444Z",
     "start_time": "2023-09-13T07:59:51.482150Z"
    }
   },
   "outputs": [
    {
     "data": {
      "text/plain": [
       "(array([[-6.25000000e-01, -8.75000000e-01, -1.12500000e+00,\n",
       "         -6.25000000e-01, -8.75000000e-01, -1.12500000e+00],\n",
       "        [ 4.99600361e-16,  5.55111512e-16,  5.55111512e-16,\n",
       "          4.99600361e-16,  5.55111512e-16,  5.55111512e-16],\n",
       "        [ 6.25000000e-01,  8.75000000e-01,  1.12500000e+00,\n",
       "          6.25000000e-01,  8.75000000e-01,  1.12500000e+00],\n",
       "        [-6.25000000e-01, -8.75000000e-01, -1.12500000e+00,\n",
       "         -6.25000000e-01, -8.75000000e-01, -1.12500000e+00],\n",
       "        [-5.27595974e-17, -1.57997401e-16, -2.01652255e-16,\n",
       "         -5.27595974e-17, -1.57997401e-16, -2.01652255e-16],\n",
       "        [ 6.25000000e-01,  8.75000000e-01,  1.12500000e+00,\n",
       "          6.25000000e-01,  8.75000000e-01,  1.12500000e+00]]),\n",
       " array([], dtype=float64),\n",
       " 2,\n",
       " array([2.68927756e+01, 2.18600544e+00, 7.27940913e-16, 6.90694916e-17,\n",
       "        1.61724041e-32, 2.18683269e-34]))"
      ]
     },
     "execution_count": 152,
     "metadata": {},
     "output_type": "execute_result"
    }
   ],
   "source": [
    "e = linalg.lstsq(a, b)\n",
    "e"
   ]
  },
  {
   "cell_type": "code",
   "execution_count": 154,
   "id": "a39deb7e6bfd01ec",
   "metadata": {
    "ExecuteTime": {
     "end_time": "2023-09-13T08:00:37.734876Z",
     "start_time": "2023-09-13T08:00:37.721323Z"
    }
   },
   "outputs": [
    {
     "ename": "TypeError",
     "evalue": "'numpy.float64' object cannot be interpreted as an integer",
     "output_type": "error",
     "traceback": [
      "\u001b[0;31m---------------------------------------------------------------------------\u001b[0m",
      "\u001b[0;31mTypeError\u001b[0m                                 Traceback (most recent call last)",
      "Cell \u001b[0;32mIn[154], line 1\u001b[0m\n\u001b[0;32m----> 1\u001b[0m signal\u001b[38;5;241m.\u001b[39mresample(b, np\u001b[38;5;241m.\u001b[39mceil(\u001b[38;5;28mlen\u001b[39m(b)\u001b[38;5;241m/\u001b[39m\u001b[38;5;241m3\u001b[39m))\n",
      "File \u001b[0;32m~/anaconda3/lib/python3.11/site-packages/scipy/signal/_signaltools.py:3145\u001b[0m, in \u001b[0;36mresample\u001b[0;34m(x, num, t, axis, window, domain)\u001b[0m\n\u001b[1;32m   3143\u001b[0m \u001b[38;5;28;01melse\u001b[39;00m:\n\u001b[1;32m   3144\u001b[0m     newshape[axis] \u001b[38;5;241m=\u001b[39m num\n\u001b[0;32m-> 3145\u001b[0m Y \u001b[38;5;241m=\u001b[39m np\u001b[38;5;241m.\u001b[39mzeros(newshape, X\u001b[38;5;241m.\u001b[39mdtype)\n\u001b[1;32m   3147\u001b[0m \u001b[38;5;66;03m# Copy positive frequency components (and Nyquist, if present)\u001b[39;00m\n\u001b[1;32m   3148\u001b[0m N \u001b[38;5;241m=\u001b[39m \u001b[38;5;28mmin\u001b[39m(num, Nx)\n",
      "\u001b[0;31mTypeError\u001b[0m: 'numpy.float64' object cannot be interpreted as an integer"
     ]
    }
   ],
   "source": [
    "signal.resample(b, np.ceil(len(b)/3))"
   ]
  },
  {
   "cell_type": "code",
   "execution_count": 155,
   "id": "3a5dad2d31662d4d",
   "metadata": {
    "ExecuteTime": {
     "end_time": "2023-09-13T08:00:45.702715Z",
     "start_time": "2023-09-13T08:00:45.672891Z"
    }
   },
   "outputs": [
    {
     "data": {
      "text/plain": [
       "array([1., 2., 3., 4., 5., 6.])"
      ]
     },
     "execution_count": 155,
     "metadata": {},
     "output_type": "execute_result"
    }
   ],
   "source": [
    "np.unique(a)"
   ]
  },
  {
   "cell_type": "code",
   "execution_count": 156,
   "id": "fb64107611ebf229",
   "metadata": {
    "ExecuteTime": {
     "end_time": "2023-09-13T08:00:50.308733Z",
     "start_time": "2023-09-13T08:00:50.277746Z"
    }
   },
   "outputs": [
    {
     "data": {
      "text/plain": [
       "array([[1., 2., 3., 1., 2., 3.],\n",
       "       [4., 5., 6., 4., 5., 6.],\n",
       "       [1., 2., 3., 1., 2., 3.],\n",
       "       [4., 5., 6., 4., 5., 6.],\n",
       "       [1., 2., 3., 1., 2., 3.],\n",
       "       [4., 5., 6., 4., 5., 6.],\n",
       "       [1., 2., 3., 1., 2., 3.],\n",
       "       [4., 5., 6., 4., 5., 6.]])"
      ]
     },
     "execution_count": 156,
     "metadata": {},
     "output_type": "execute_result"
    }
   ],
   "source": [
    "a.squeeze()\n",
    "\n"
   ]
  },
  {
   "cell_type": "code",
   "execution_count": 157,
   "id": "d7a83178db585ba8",
   "metadata": {
    "ExecuteTime": {
     "end_time": "2023-09-13T08:20:39.273565Z",
     "start_time": "2023-09-13T08:20:37.876147Z"
    }
   },
   "outputs": [
    {
     "data": {
      "image/png": "[encoded data removed]",
      "text/plain": [
       "<Figure size 640x480 with 1 Axes>"
      ]
     },
     "metadata": {},
     "output_type": "display_data"
    }
   ],
   "source": [
    "import matplotlib.pyplot as plt\n",
    "plt.plot([1,2,3,4], [1,2,7,14])\n",
    "plt.axis([0, 6, 0, 20])\n",
    "plt.show()\n"
   ]
  },
  {
   "cell_type": "code",
   "execution_count": 161,
   "id": "36ba6556bb4713f2",
   "metadata": {
    "ExecuteTime": {
     "end_time": "2023-09-13T08:28:31.703797Z",
     "start_time": "2023-09-13T08:28:31.630648Z"
    }
   },
   "outputs": [
    {
     "data": {
      "image/png": "[encoded data removed]",
      "text/plain": [
       "<Figure size 640x480 with 1 Axes>"
      ]
     },
     "metadata": {},
     "output_type": "display_data"
    }
   ],
   "source": [
    "import matplotlib.pyplot as plt\n",
    "from matplotlib import cm\n",
    "import numpy as np\n",
    "\n",
    "fig = plt.figure()\n",
    "ax = fig.add_subplot(111, projection='3d')\n",
    "\n",
    "# generate some X, Y data points\n",
    "X, Y = np.meshgrid(np.arange(0, 2*np.pi, 0.2), np.arange(0, 2*np.pi, 0.2))\n",
    "Z = np.sin(X) + np.cos(Y) \n",
    "\n",
    "\n",
    "surf = ax.plot_surface(X, Y, Z, cmap=cm.coolwarm,\n",
    "                       linewidth=0, antialiased=False)\n",
    "\n",
    "#set labels and title\n",
    "ax.set_xlabel('X Label')\n",
    "ax.set_ylabel('Y Label') \n",
    "ax.set_zlabel('Z Label')\n",
    "ax.set_title('Surface Plot Example')\n",
    "\n",
    "\n",
    "plt.show()\n",
    "ax.plot_surface(X, Y, Z, rstride=1, cstride=1, cmap=cm.jet)\n",
    "plt.show()\n"
   ]
  },
  {
   "cell_type": "code",
   "execution_count": 162,
   "id": "6de58f1eca7e6f1e",
   "metadata": {
    "ExecuteTime": {
     "end_time": "2023-09-13T08:50:16.377174Z",
     "start_time": "2023-09-13T08:50:16.340047Z"
    }
   },
   "outputs": [
    {
     "ename": "AttributeError",
     "evalue": "'numpy.ndarray' object has no attribute 'NotebookApp'",
     "output_type": "error",
     "traceback": [
      "\u001b[0;31m---------------------------------------------------------------------------\u001b[0m",
      "\u001b[0;31mAttributeError\u001b[0m                            Traceback (most recent call last)",
      "Cell \u001b[0;32mIn[162], line 3\u001b[0m\n\u001b[1;32m      1\u001b[0m \u001b[38;5;66;03m#github account https://github.com/FitzFitzFitz\u001b[39;00m\n\u001b[1;32m      2\u001b[0m \u001b[38;5;66;03m#repository:https://github.com/FitzFitzFitz/ELEC576\u001b[39;00m\n\u001b[0;32m----> 3\u001b[0m c\u001b[38;5;241m.\u001b[39mNotebookApp\u001b[38;5;241m.\u001b[39mexport_output_types \u001b[38;5;241m=\u001b[39m {\u001b[38;5;124m'\u001b[39m\u001b[38;5;124mpdf\u001b[39m\u001b[38;5;124m'\u001b[39m: \u001b[38;5;124m'\u001b[39m\u001b[38;5;124mnbconvert\u001b[39m\u001b[38;5;124m'\u001b[39m}\n",
      "\u001b[0;31mAttributeError\u001b[0m: 'numpy.ndarray' object has no attribute 'NotebookApp'"
     ]
    }
   ],
   "source": [
    "#github account https://github.com/FitzFitzFitz\n",
    "#repository:https://github.com/FitzFitzFitz/ELEC576\n",
    "#jupyter nbconvert notebook.ipynb --to pdf"
   ]
  },
  {
   "cell_type": "code",
   "execution_count": null,
   "id": "c3e2e673c16597f1",
   "metadata": {},
   "outputs": [],
   "source": []
  }
 ],
 "metadata": {
  "kernelspec": {
   "display_name": "Python 3 (ipykernel)",
   "language": "python",
   "name": "python3"
  },
  "language_info": {
   "codemirror_mode": {
    "name": "ipython",
    "version": 3
   },
   "file_extension": ".py",
   "mimetype": "text/x-python",
   "name": "python",
   "nbconvert_exporter": "python",
   "pygments_lexer": "ipython3",
   "version": "3.11.4"
  }
 },
 "nbformat": 4,
 "nbformat_minor": 5
}
